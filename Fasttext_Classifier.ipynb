{
  "nbformat": 4,
  "nbformat_minor": 0,
  "metadata": {
    "colab": {
      "name": "Fasttext Classifier",
      "provenance": []
    },
    "kernelspec": {
      "name": "python3",
      "display_name": "Python 3"
    },
    "accelerator": "GPU"
  },
  "cells": [
    {
      "cell_type": "code",
      "metadata": {
        "id": "jPgPSqFJi5-n",
        "colab_type": "code",
        "colab": {
          "base_uri": "https://localhost:8080/",
          "height": 33
        },
        "outputId": "dc0d059f-2507-4c78-f3c0-58534385ddab"
      },
      "source": [
        "cd \"/content/drive/My Drive/\""
      ],
      "execution_count": null,
      "outputs": [
        {
          "output_type": "stream",
          "text": [
            "/content/drive/My Drive\n"
          ],
          "name": "stdout"
        }
      ]
    },
    {
      "cell_type": "code",
      "metadata": {
        "id": "HpyR2v0_khAC",
        "colab_type": "code",
        "colab": {
          "base_uri": "https://localhost:8080/",
          "height": 254
        },
        "outputId": "0100a2a6-46cf-40e4-8a17-88ccd634aeae"
      },
      "source": [
        "!pip install fasttext"
      ],
      "execution_count": null,
      "outputs": [
        {
          "output_type": "stream",
          "text": [
            "Collecting fasttext\n",
            "\u001b[?25l  Downloading https://files.pythonhosted.org/packages/f8/85/e2b368ab6d3528827b147fdb814f8189acc981a4bc2f99ab894650e05c40/fasttext-0.9.2.tar.gz (68kB)\n",
            "\r\u001b[K     |████▊                           | 10kB 20.0MB/s eta 0:00:01\r\u001b[K     |█████████▌                      | 20kB 1.6MB/s eta 0:00:01\r\u001b[K     |██████████████▎                 | 30kB 1.9MB/s eta 0:00:01\r\u001b[K     |███████████████████             | 40kB 2.1MB/s eta 0:00:01\r\u001b[K     |███████████████████████▉        | 51kB 2.0MB/s eta 0:00:01\r\u001b[K     |████████████████████████████▋   | 61kB 2.2MB/s eta 0:00:01\r\u001b[K     |████████████████████████████████| 71kB 1.9MB/s \n",
            "\u001b[?25hRequirement already satisfied: pybind11>=2.2 in /usr/local/lib/python3.6/dist-packages (from fasttext) (2.5.0)\n",
            "Requirement already satisfied: setuptools>=0.7.0 in /usr/local/lib/python3.6/dist-packages (from fasttext) (47.1.1)\n",
            "Requirement already satisfied: numpy in /usr/local/lib/python3.6/dist-packages (from fasttext) (1.18.5)\n",
            "Building wheels for collected packages: fasttext\n",
            "  Building wheel for fasttext (setup.py) ... \u001b[?25l\u001b[?25hdone\n",
            "  Created wheel for fasttext: filename=fasttext-0.9.2-cp36-cp36m-linux_x86_64.whl size=3019120 sha256=62bae151891073e56f8f796d95fdfe2051b5b2185e2ead1852c55c8492a5995e\n",
            "  Stored in directory: /root/.cache/pip/wheels/98/ba/7f/b154944a1cf5a8cee91c154b75231136cc3a3321ab0e30f592\n",
            "Successfully built fasttext\n",
            "Installing collected packages: fasttext\n",
            "Successfully installed fasttext-0.9.2\n"
          ],
          "name": "stdout"
        }
      ]
    },
    {
      "cell_type": "code",
      "metadata": {
        "id": "yBepn0yAjCk4",
        "colab_type": "code",
        "colab": {
          "base_uri": "https://localhost:8080/",
          "height": 100
        },
        "outputId": "1b207a00-29a5-4ce2-a969-54fca52c1242"
      },
      "source": [
        "import pandas as pd\n",
        "from sklearn.utils import resample\n",
        "import csv\n",
        "import nltk\n",
        "from nltk.corpus import stopwords\n",
        "from nltk.tokenize import RegexpTokenizer\n",
        "from nltk.stem import WordNetLemmatizer\n",
        "from nltk.stem.porter import PorterStemmer\n",
        "from bs4 import BeautifulSoup\n",
        "import string\n",
        "import re\n",
        "import fasttext\n",
        "\n",
        "nltk.download('stopwords')\n",
        "nltk.download('wordnet')"
      ],
      "execution_count": null,
      "outputs": [
        {
          "output_type": "stream",
          "text": [
            "[nltk_data] Downloading package stopwords to /root/nltk_data...\n",
            "[nltk_data]   Package stopwords is already up-to-date!\n",
            "[nltk_data] Downloading package wordnet to /root/nltk_data...\n",
            "[nltk_data]   Package wordnet is already up-to-date!\n"
          ],
          "name": "stdout"
        },
        {
          "output_type": "execute_result",
          "data": {
            "text/plain": [
              "True"
            ]
          },
          "metadata": {
            "tags": []
          },
          "execution_count": 46
        }
      ]
    },
    {
      "cell_type": "code",
      "metadata": {
        "id": "T-pnD7qfjD2I",
        "colab_type": "code",
        "colab": {}
      },
      "source": [
        "data = pd.read_csv(\"sentimentMemes.csv\")"
      ],
      "execution_count": null,
      "outputs": []
    },
    {
      "cell_type": "code",
      "metadata": {
        "id": "Zn0rv4F3jFG9",
        "colab_type": "code",
        "colab": {
          "base_uri": "https://localhost:8080/",
          "height": 117
        },
        "outputId": "5308fa65-d925-4491-f6df-66059b1cf452"
      },
      "source": [
        "data['overall_sentiment'].value_counts()"
      ],
      "execution_count": null,
      "outputs": [
        {
          "output_type": "execute_result",
          "data": {
            "text/plain": [
              "positive         3127\n",
              "neutral          2201\n",
              "very_positive    1033\n",
              "negative          480\n",
              "very_negative     151\n",
              "Name: overall_sentiment, dtype: int64"
            ]
          },
          "metadata": {
            "tags": []
          },
          "execution_count": 5
        }
      ]
    },
    {
      "cell_type": "code",
      "metadata": {
        "id": "9asw1Dmrmtqi",
        "colab_type": "code",
        "colab": {}
      },
      "source": [
        "data['overall_sentiment'] = data['overall_sentiment'].replace({'very_positive': 'positive', 'very_negative': 'negative'})"
      ],
      "execution_count": null,
      "outputs": []
    },
    {
      "cell_type": "code",
      "metadata": {
        "id": "ElrTaufCz5xh",
        "colab_type": "code",
        "colab": {
          "base_uri": "https://localhost:8080/",
          "height": 84
        },
        "outputId": "916fe919-c8d0-47c7-abfa-f74d20e4a65d"
      },
      "source": [
        "data['overall_sentiment'].value_counts()"
      ],
      "execution_count": null,
      "outputs": [
        {
          "output_type": "execute_result",
          "data": {
            "text/plain": [
              "positive    4160\n",
              "neutral     2201\n",
              "negative     631\n",
              "Name: overall_sentiment, dtype: int64"
            ]
          },
          "metadata": {
            "tags": []
          },
          "execution_count": 7
        }
      ]
    },
    {
      "cell_type": "code",
      "metadata": {
        "id": "gFjqe_KGjHsY",
        "colab_type": "code",
        "colab": {
          "base_uri": "https://localhost:8080/",
          "height": 33
        },
        "outputId": "8838910c-1d65-45c8-8289-d70848987ce7"
      },
      "source": [
        "classes = data['overall_sentiment'].unique()\n",
        "print(classes)"
      ],
      "execution_count": null,
      "outputs": [
        {
          "output_type": "stream",
          "text": [
            "['positive' 'neutral' 'negative']\n"
          ],
          "name": "stdout"
        }
      ]
    },
    {
      "cell_type": "code",
      "metadata": {
        "id": "3QFTPzfzjMzf",
        "colab_type": "code",
        "colab": {}
      },
      "source": [
        "positive = data[data.overall_sentiment==classes[0]]\n",
        "neutral = data[data.overall_sentiment==classes[1]]\n",
        "negative = data[data.overall_sentiment==classes[2]]"
      ],
      "execution_count": null,
      "outputs": []
    },
    {
      "cell_type": "code",
      "metadata": {
        "id": "PuVgDf33jPSq",
        "colab_type": "code",
        "colab": {}
      },
      "source": [
        "neutral_upsampled = resample(neutral,\n",
        "                          replace=True,\n",
        "                          n_samples=len(positive), \n",
        "                          random_state=27)\n",
        "negative_upsampled = resample(negative,\n",
        "                          replace=True,\n",
        "                          n_samples=len(positive), \n",
        "                          random_state=27)"
      ],
      "execution_count": null,
      "outputs": []
    },
    {
      "cell_type": "code",
      "metadata": {
        "id": "nS0Y2DNUjRK3",
        "colab_type": "code",
        "colab": {}
      },
      "source": [
        "upsampled = [positive, neutral_upsampled,negative_upsampled]\n",
        "upsampled = pd.concat(upsampled)"
      ],
      "execution_count": null,
      "outputs": []
    },
    {
      "cell_type": "code",
      "metadata": {
        "id": "78vnwEmxjSyq",
        "colab_type": "code",
        "colab": {
          "base_uri": "https://localhost:8080/",
          "height": 84
        },
        "outputId": "2cd3fdb1-57a0-4c8a-fe65-748b6f8401f0"
      },
      "source": [
        "upsampled['overall_sentiment'].value_counts()"
      ],
      "execution_count": null,
      "outputs": [
        {
          "output_type": "execute_result",
          "data": {
            "text/plain": [
              "positive    4160\n",
              "neutral     4160\n",
              "negative    4160\n",
              "Name: overall_sentiment, dtype: int64"
            ]
          },
          "metadata": {
            "tags": []
          },
          "execution_count": 12
        }
      ]
    },
    {
      "cell_type": "code",
      "metadata": {
        "id": "1jnOBX2QjVZP",
        "colab_type": "code",
        "colab": {}
      },
      "source": [
        "def clean_data(text):\n",
        "  text = str(text)\n",
        "  no_punct = \"\".join([c for c in text if c not in string.punctuation])\n",
        "  url_pattern = r'http[s]?://(?:[a-zA-Z]|[0-9]|[$-_@.&+]|[!*\\(\\),]|(?:%[0-9a-fA-F][0-9a-fA-F]))+'\n",
        "  text = re.sub(url_pattern, ' ', no_punct)\n",
        "  text = ''.join(character for character in text if ord(character) < 128)\n",
        "  emoji_pattern = re.compile(\"[\"\n",
        "                           u\"\\U0001F600-\\U0001F64F\"  # emoticons\n",
        "                           u\"\\U0001F300-\\U0001F5FF\"  # symbols & pictographs\n",
        "                           u\"\\U0001F680-\\U0001F6FF\"  # transport & map symbols\n",
        "                           u\"\\U0001F1E0-\\U0001F1FF\"  # flags (iOS)\n",
        "                           u\"\\U00002702-\\U000027B0\"\n",
        "                           u\"\\U000024C2-\\U0001F251\"\n",
        "                           \"]+\", flags=re.UNICODE)\n",
        "  text = emoji_pattern.sub(r'', text)\n",
        "  toknizer = RegexpTokenizer(r'\\w+')\n",
        "  text = toknizer.tokenize(text.lower())\n",
        "  text = [w for w in text if w not in stopwords.words('english')]\n",
        "  lemmatizer = WordNetLemmatizer()\n",
        "  text = [lemmatizer.lemmatize(i) for i in text]\n",
        "  stemmer = PorterStemmer()\n",
        "  text = \" \".join([stemmer.stem(i) for i in  text])\n",
        "  return text"
      ],
      "execution_count": null,
      "outputs": []
    },
    {
      "cell_type": "code",
      "metadata": {
        "id": "FTOWSSS_kBK8",
        "colab_type": "code",
        "colab": {}
      },
      "source": [
        "upsampled['text_corrected'] = upsampled['text_corrected'].map(lambda x: clean_data(x))"
      ],
      "execution_count": null,
      "outputs": []
    },
    {
      "cell_type": "code",
      "metadata": {
        "id": "urtG0QBakI5Z",
        "colab_type": "code",
        "colab": {
          "base_uri": "https://localhost:8080/",
          "height": 217
        },
        "outputId": "5826a331-0966-4b20-d022-79e9299e7809"
      },
      "source": [
        "upsampled['text_corrected']"
      ],
      "execution_count": null,
      "outputs": [
        {
          "output_type": "execute_result",
          "data": {
            "text/plain": [
              "0       look friend lightyear sohalikut trend play 10 ...\n",
              "1       best 10 yearchalleng complet le 4 year kudu na...\n",
              "2       sam thorn strippin follow follow saw everyon p...\n",
              "3                         10 year challeng sweet dee edit\n",
              "8       fornit die 10 month minecraft never die 10 yea...\n",
              "                              ...                        \n",
              "4229            your go start world war 3 presid wont let\n",
              "185     condit extra class facebookcomcompleteg comple...\n",
              "4801    technic hillari clinton turn point usa part 39...\n",
              "4221                                       donald clinton\n",
              "10      probabl first man 10 year challeng chennai pas...\n",
              "Name: text_corrected, Length: 12480, dtype: object"
            ]
          },
          "metadata": {
            "tags": []
          },
          "execution_count": 15
        }
      ]
    },
    {
      "cell_type": "code",
      "metadata": {
        "id": "btQkvQxIGWr0",
        "colab_type": "code",
        "colab": {
          "base_uri": "https://localhost:8080/",
          "height": 84
        },
        "outputId": "732d5c81-773a-457f-a204-3011a84ab441"
      },
      "source": [
        "df1 = upsampled[upsampled['text_corrected'].str.contains(\"penguin meme close close fling imgflipcom entir sub smile wave\")] \n",
        "print(df1)"
      ],
      "execution_count": null,
      "outputs": [
        {
          "output_type": "stream",
          "text": [
            "          image_name  ... overall_sentiment\n",
            "3114  image_3115.png  ...          positive\n",
            "\n",
            "[1 rows x 4 columns]\n"
          ],
          "name": "stdout"
        }
      ]
    },
    {
      "cell_type": "code",
      "metadata": {
        "id": "cKCKaAQNkROQ",
        "colab_type": "code",
        "colab": {
          "base_uri": "https://localhost:8080/",
          "height": 137
        },
        "outputId": "bfb5afb6-9b95-4dac-98b9-9ba90f2dd0eb"
      },
      "source": [
        "col = ['overall_sentiment','text_corrected']\n",
        "train = upsampled[col]\n",
        "train['overall_sentiment']=['__label__'+ s for s in train['overall_sentiment']]"
      ],
      "execution_count": null,
      "outputs": [
        {
          "output_type": "stream",
          "text": [
            "/usr/local/lib/python3.6/dist-packages/ipykernel_launcher.py:3: SettingWithCopyWarning: \n",
            "A value is trying to be set on a copy of a slice from a DataFrame.\n",
            "Try using .loc[row_indexer,col_indexer] = value instead\n",
            "\n",
            "See the caveats in the documentation: https://pandas.pydata.org/pandas-docs/stable/user_guide/indexing.html#returning-a-view-versus-a-copy\n",
            "  This is separate from the ipykernel package so we can avoid doing imports until\n"
          ],
          "name": "stderr"
        }
      ]
    },
    {
      "cell_type": "code",
      "metadata": {
        "id": "PDzBcEDzkUPx",
        "colab_type": "code",
        "colab": {
          "base_uri": "https://localhost:8080/",
          "height": 404
        },
        "outputId": "40c62e51-02b5-4224-cb88-4a924ab31099"
      },
      "source": [
        "train"
      ],
      "execution_count": null,
      "outputs": [
        {
          "output_type": "execute_result",
          "data": {
            "text/html": [
              "<div>\n",
              "<style scoped>\n",
              "    .dataframe tbody tr th:only-of-type {\n",
              "        vertical-align: middle;\n",
              "    }\n",
              "\n",
              "    .dataframe tbody tr th {\n",
              "        vertical-align: top;\n",
              "    }\n",
              "\n",
              "    .dataframe thead th {\n",
              "        text-align: right;\n",
              "    }\n",
              "</style>\n",
              "<table border=\"1\" class=\"dataframe\">\n",
              "  <thead>\n",
              "    <tr style=\"text-align: right;\">\n",
              "      <th></th>\n",
              "      <th>overall_sentiment</th>\n",
              "      <th>text_corrected</th>\n",
              "    </tr>\n",
              "  </thead>\n",
              "  <tbody>\n",
              "    <tr>\n",
              "      <th>0</th>\n",
              "      <td>__label__positive</td>\n",
              "      <td>look friend lightyear sohalikut trend play 10 ...</td>\n",
              "    </tr>\n",
              "    <tr>\n",
              "      <th>1</th>\n",
              "      <td>__label__positive</td>\n",
              "      <td>best 10 yearchalleng complet le 4 year kudu na...</td>\n",
              "    </tr>\n",
              "    <tr>\n",
              "      <th>2</th>\n",
              "      <td>__label__positive</td>\n",
              "      <td>sam thorn strippin follow follow saw everyon p...</td>\n",
              "    </tr>\n",
              "    <tr>\n",
              "      <th>3</th>\n",
              "      <td>__label__positive</td>\n",
              "      <td>10 year challeng sweet dee edit</td>\n",
              "    </tr>\n",
              "    <tr>\n",
              "      <th>8</th>\n",
              "      <td>__label__positive</td>\n",
              "      <td>fornit die 10 month minecraft never die 10 yea...</td>\n",
              "    </tr>\n",
              "    <tr>\n",
              "      <th>...</th>\n",
              "      <td>...</td>\n",
              "      <td>...</td>\n",
              "    </tr>\n",
              "    <tr>\n",
              "      <th>4229</th>\n",
              "      <td>__label__negative</td>\n",
              "      <td>your go start world war 3 presid wont let</td>\n",
              "    </tr>\n",
              "    <tr>\n",
              "      <th>185</th>\n",
              "      <td>__label__negative</td>\n",
              "      <td>condit extra class facebookcomcompleteg comple...</td>\n",
              "    </tr>\n",
              "    <tr>\n",
              "      <th>4801</th>\n",
              "      <td>__label__negative</td>\n",
              "      <td>technic hillari clinton turn point usa part 39...</td>\n",
              "    </tr>\n",
              "    <tr>\n",
              "      <th>4221</th>\n",
              "      <td>__label__negative</td>\n",
              "      <td>donald clinton</td>\n",
              "    </tr>\n",
              "    <tr>\n",
              "      <th>10</th>\n",
              "      <td>__label__negative</td>\n",
              "      <td>probabl first man 10 year challeng chennai pas...</td>\n",
              "    </tr>\n",
              "  </tbody>\n",
              "</table>\n",
              "<p>12480 rows × 2 columns</p>\n",
              "</div>"
            ],
            "text/plain": [
              "      overall_sentiment                                     text_corrected\n",
              "0     __label__positive  look friend lightyear sohalikut trend play 10 ...\n",
              "1     __label__positive  best 10 yearchalleng complet le 4 year kudu na...\n",
              "2     __label__positive  sam thorn strippin follow follow saw everyon p...\n",
              "3     __label__positive                    10 year challeng sweet dee edit\n",
              "8     __label__positive  fornit die 10 month minecraft never die 10 yea...\n",
              "...                 ...                                                ...\n",
              "4229  __label__negative          your go start world war 3 presid wont let\n",
              "185   __label__negative  condit extra class facebookcomcompleteg comple...\n",
              "4801  __label__negative  technic hillari clinton turn point usa part 39...\n",
              "4221  __label__negative                                     donald clinton\n",
              "10    __label__negative  probabl first man 10 year challeng chennai pas...\n",
              "\n",
              "[12480 rows x 2 columns]"
            ]
          },
          "metadata": {
            "tags": []
          },
          "execution_count": 17
        }
      ]
    },
    {
      "cell_type": "code",
      "metadata": {
        "id": "ZOX_O8pckYTB",
        "colab_type": "code",
        "colab": {}
      },
      "source": [
        "train = train.sample(n=len(train), random_state=42)"
      ],
      "execution_count": null,
      "outputs": []
    },
    {
      "cell_type": "code",
      "metadata": {
        "id": "SJNgK6_YkYsL",
        "colab_type": "code",
        "colab": {}
      },
      "source": [
        "train_data = train[:int(len(train) * 70 / 100)]\n",
        "test_data = train[int(len(train) * 70 / 100):]"
      ],
      "execution_count": null,
      "outputs": []
    },
    {
      "cell_type": "code",
      "metadata": {
        "id": "KI5HqK6fkZ9_",
        "colab_type": "code",
        "colab": {}
      },
      "source": [
        "train_data.to_csv(r'/content/drive/My Drive/train.txt', index=False, sep=' ', header=False, quoting=csv.QUOTE_NONE, quotechar=\"\", escapechar=\" \")\n",
        "test_data.to_csv(r'/content/drive/My Drive/test.txt', index=False, sep=' ', header=False, quoting=csv.QUOTE_NONE, quotechar=\"\", escapechar=\" \")"
      ],
      "execution_count": null,
      "outputs": []
    },
    {
      "cell_type": "code",
      "metadata": {
        "id": "mkxh8tcCkcSM",
        "colab_type": "code",
        "colab": {}
      },
      "source": [
        "model = fasttext.train_supervised(input = '/content/drive/My Drive/train.txt', lr=0.1, epoch=50, wordNgrams=2, loss='hs')"
      ],
      "execution_count": null,
      "outputs": []
    },
    {
      "cell_type": "code",
      "metadata": {
        "id": "Mo4Z5aDG4Q-L",
        "colab_type": "code",
        "colab": {}
      },
      "source": [
        "model.save_model(\"sentimental_analysis/fasttext_model_zero.ftz\")"
      ],
      "execution_count": null,
      "outputs": []
    },
    {
      "cell_type": "code",
      "metadata": {
        "id": "5JrVYLyA5f9m",
        "colab_type": "code",
        "colab": {
          "base_uri": "https://localhost:8080/",
          "height": 53
        },
        "outputId": "72c52d95-bcf9-4308-ed2c-7ee754de5cc8"
      },
      "source": [
        "model = fasttext.load_model(\"sentimental_analysis/fasttext_model_zero.bin\")"
      ],
      "execution_count": null,
      "outputs": [
        {
          "output_type": "stream",
          "text": [
            "Warning : `load_model` does not return WordVectorModel or SupervisedModel any more, but a `FastText` object which is very similar.\n"
          ],
          "name": "stderr"
        }
      ]
    },
    {
      "cell_type": "code",
      "metadata": {
        "id": "fQgHPgsXklfP",
        "colab_type": "code",
        "colab": {
          "base_uri": "https://localhost:8080/",
          "height": 70
        },
        "outputId": "6ebd382c-467d-4c39-8f4b-c76ef579d3f1"
      },
      "source": [
        "print(model.words)\n",
        "print(model.labels)"
      ],
      "execution_count": null,
      "outputs": [
        {
          "output_type": "stream",
          "text": [
            "['</s>', 'meme', 'like', 'bill', 'im', 'imgflipcom', 'dont', 'get', 'one', 'make', 'your', 'look', 'quickmemecom', 'say', 'friend', 'know', 'go', 'peopl', 'see', 'want', 'time', 'think', 'memecentercom', 'woman', 'memegeneratornet', 'girl', 'love', 'never', 'u', 'tell', 'call', 'someon', 'trump', 'come', 'doesnt', 'made', 'fuck', 'kill', 'got', 'hate', 'year', 'cant', 'day', 'countri', 'need', 'take', 'find', 'cat', 'best', 'alway', 'hillari', 'girlfriend', 'would', 'life', 'man', 'thing', 'ask', 'back', 'still', 'world', 'hitler', 'new', 'good', 'guy', 'liam', 'that', 'first', 'oh', 'funni', 'use', 'white', 'tri', 'work', 'give', 'everyon', 'smart', 'better', 'stop', 'kid', 'post', 'let', 'keep', 'watch', 'hey', 'mr', 'could', 'put', 'mean', 'obama', 'shit', 'memecent', 'presid', 'person', 'without', 'racist', 'face', 'old', 'said', 'even', 'feel', 'real', 'actual', 'chuck', 'norri', 'gonna', 'told', 'follow', 'start', 'last', 'die', 'steve', 'much', 'job', 'ever', 'show', 'name', 'movi', '2', 'happi', 'walk', 'bean', 'babi', '3', 'didnt', 'right', 'everyth', 'dicaprio', 'big', 'facebook', 'putin', '10', 'harvey', 'eat', 'eye', 'leonardo', 'he', '1', 'ill', 'seal', 'play', 'everi', 'zuckerberg', 'realli', 'black', 'moment', 'feminist', 'bad', 'mark', 'send', 'war', 'talk', 'chang', 'music', 'god', 'donald', '2017', 'pictur', 'live', 'america', 'game', 'technolog', 'laugh', 'someth', 'wait', 'way', 'boy', 'titan', 'what', 'birthday', 'end', 'pepe', 'sorri', 'lose', 'internet', 'sexist', 'fan', 'brian', 'two', 'thought', 'kim', 'ye', 'word', 'care', 'mind', 'realiz', 'ive', 'wrong', 'night', 'pleas', 'via', 'jim', 'spiderman', 'turn', 'today', 'great', 'thank', 'joker', 'littl', 'may', 'modi', 'ur', 'left', 'anyth', 'dad', 'well', 'pm', 'awesom', 'money', 'nobodi', 'point', 'men', 'bitch', 'dog', 'rememb', 'harri', 'aveng', 'mom', 'captain', 'home', 'gene', 'clinton', 'who', 'read', 'drink', 'there', 'imgur', 'wilder', 'control', 'hand', 'lord', 'stori', 'run', 'pay', 'final', 'sure', 'becom', 'wont', 'win', 'free', 'bang', 'hold', 'long', 'understand', 'drunk', 'enough', 'photo', 'share', 'next', 'joke', 'hit', 'hous', 'must', 'school', '000', 'oscar', 'dr', 'luck', 'evil', 'lost', 'phone', '2016', 'social', 'happen', 'anoth', 'theori', 'miss', 'fat', 'anyon', 'penguin', 'boyfriend', 'godfath', 'deadpool', 'carrey', 'sit', 'scene', 'high', 'makeamemeorg', 'meet', 'wish', 'mouth', 'crazi', '9gagcom', 'sport', 'whole', 'xmen', 'els', 'hear', 'video', 'mother', 'wall', 'minut', 'date', 'vote', 'dead', 'bat', 'listen', 'room', 'pokemon', 'trust', 'found', 'id', 'secret', 'heard', 'appear', 'break', 'univers', 'hell', 'tag', '2018', 'hard', '4', 'misogyni', 'jong', 'noth', 'alreadi', 'bro', 'bring', 'human', 'around', 'reason', 'food', 'fire', 'gave', 'believ', 'she', 'caus', 'text', 'kind', 'rare', 'isnt', 'barney', 'mayb', 'check', 'challeng', 'open', 'russian', 'simpli', 'rahul', 'famili', 'femin', 'ring', 'water', 'bodi', 'class', 'wear', 'awkward', 'creat', 'daughter', 'book', 'bed', 'knock', 'met', 'power', 'drop', 'question', 'fun', 'picard', 'ball', 'wife', 'card', 'hair', 'nemo', 'instead', 'saw', 'busi', 'parent', 'help', 'gun', 'differ', 'sound', 'week', 'car', 'potter', 'matter', 'fact', 'havent', '20', 'smile', 'child', 'everybodi', 'move', 'son', 'bear', 'problem', 'place', 'singl', 'done', 'sleep', 'male', 'head', 'support', 'chocol', 'forc', 'troll', 'opinion', 'memescom', 'lie', 'wanna', 'gandhi', 'sometim', 'parti', 'million', 'notic', 'teacher', 'hour', 'drive', 'alien', 'femal', '15', 'number', 'hot', 'close', 'marvel', 'issu', 'pretti', 'dy', 'street', 'leav', 'cute', 'law', 'v', 'joe', 'doctor', 'seen', 'away', 'lol', 'fish', 'nation', 'fight', 'finish', 'also', 'theyr', '100', 'age', 'second', 'democrat', 'idiot', 'father', '5', 'true', 'mani', 'red', 'forgot', 'russia', 'act', 'starecatcom', 'sexi', 'yeah', 'usa', 'fine', 'charact', 'pepemem', '7', 'neeson', 'youv', 'side', 'beauti', 'month', 'occupi', 'stupid', 'nice', 'wake', 'ladi', 'build', 'took', 'cut', 'space', 'hilari', 'hero', 'offer', 'frog', 'fake', 'state', 'comment', 'morn', 'anim', 'news', 'expect', 'email', 'order', 'pic', 'worri', 'gener', 'quot', 'imag', 'went', 'steal', 'josh', 'medium', 'minion', 'dream', 'lot', 'reaction', 'wonder', 'memecrunchcom', 'bo', 'rest', 'fix', 'dude', 'bing', 'buy', 'tree', 'appl', 'club', 'chandler', 'king', 'sad', 'ugli', 'destroy', 'tom', 'liter', 'explain', 'wow', 'ex', 'suit', 'came', 'elect', 'save', 'readi', 'exam', 'okay', 'part', 'hope', 'throne', 'speak', 'inform', 'aint', 'sex', 'deserv', 'tear', 'strang', '6', 'beer', 'essentialoilstylecom', '8', 'third', 'distract', 'morpheu', 'charg', 'upvot', 'cool', 'other', 'page', '9', 'murder', 'clean', 'probabl', 'hurt', 'ron', 'un', 'note', 'speech', 'complain', 'truth', 'answer', 'plan', 'beat', 'color', 'futur', 'omg', 'full', 'jerri', 'favorit', 'chanc', 'tv', 'compani', 'pizza', 'giorgio', 'enjoy', 'favourit', 'penni', 'us', 'tast', 'rip', 'yet', 'afraid', 'promis', 'idea', 'forget', 'door', 'arrest', 'wasnt', 'shut', 'kiss', 'as', 'scaveng', 'either', 'leo', 'dollar', 'window', 'sheldon', 'episod', 'player', 'team', 'hang', 'le', 'togeth', 'blame', 'ship', 'offend', 'boredpandacom', 'iphon', 'hater', 'releas', 'memeshappencom', 'damn', 'learn', 'refus', 'jew', 'india', 'hello', 'unit', 'twitter', 'protect', 'danger', 'allow', 'f', 'origin', 'coffe', 'squad', 'here', 'batman', 'soon', 'ok', 'view', 'repli', '2019', 'bollywood', 'suck', 'respons', 'j', 'instagram', 'gay', 'studi', 'imagur', 'star', 'stay', 'govern', 'nov', 'scienc', 'cri', 'whenev', 'american', 'stinson', 'special', 'throw', 'simpl', 'camera', 'stare', 'half', 'death', 'googl', 'entir', 'test', 'sandwich', 'ig', 'super', 'voldemort', 'fit', 'slave', 'nazi', 'approv', 'sexual', 'crush', 'season', 'mematicnet', 'brother', 'success', 'audienc', 'actor', 'accident', 'haha', 'taught', 'marri', 'bullshit', 'begin', 'rig', 'ben', 'narendra', 'mental', 'mad', 'later', 'coupl', 'b', 'crap', 'stand', 'credit', '9gag', 'normal', 'gone', 'gender', 'knew', 'chicken', 'shutterstock', 'perfect', 'retweet', 'attack', 'ago', 'polit', 'type', 'touch', 'butt', 'hi', 'glass', 'longer', 'fart', 'visit', 'light', 'agre', '2012', 'arent', 'barack', 'memefulcom', 'confess', 'might', 'gymnast', 'ice', '11', 'mine', 'brain', 'current', 'pick', '12', 'sister', 'pole', 'welcom', 'teach', 'oil', 'hide', 'weird', 'imagin', 'master', 'silenc', 'excit', 'bomb', 'film', 'memeshappen', 'selfi', 'account', 'intellectu', 'join', 'rock', 'historycom', 'adult', 'yo', 'ifunnyco', 'sexism', 'taken', 'ride', 'anyway', 'eclips', 'train', 'blow', 'snapchat', 'e', 'geniu', 'polic', 'posit', 'though', 'insid', 'lip', 'claim', 'forev', 'happywishesnet', 'friday', 'tank', 'set', 'wouldnt', 'exist', 'rais', 'rob', 'four', 'search', 'andrew', 'pixar', 'treat', 'realis', 'paid', 'ukrainian', 'finger', 'nude', 'corrupt', 'pretend', 'belief', 'jesu', 'public', 'republican', 'infin', 'pull', 'import', 'winter', 'small', 'fail', 'aunt', 'enter', 'remov', 'wtf', 'skill', 'german', 'outsid', 'sweet', 'figur', 'top', '50', 'nap', 'gotta', 'feed', 'accept', 'com', 'insan', 'fall', 'rape', 'somebodi', 'leg', 'w', 'hole', 'safe', 'park', 'behind', 'ban', 'kinda', 'cheat', 'becam', 'hogwart', 'crime', 'zombi', 'box', 'warm', 'poor', 'lucki', 'switch', 'endgam', 'metal', 'extra', 'h', 'legend', 'dark', 'smoke', 'smell', 'draw', 'sick', 'dress', 'everyday', 'hire', 'jongun', 'massiv', 'argu', 'anymor', 'born', 'nigga', 'indian', 'known', 'tabl', 'dumb', 'almost', 'ga', '500', 'couldnt', 'relat', 'complet', 'avoid', 'air', 'heart', 'porn', 'five', 'disney', 'brace', 'young', 'husband', 'himym', 'sonic', 'three', '2015', 'comfort', 'prime', 'rich', 'alcohol', '18', 'europ', 'server', 'pepethefrog', 'sadfrog', 'feelsbadman', 'toast', 'warn', 'savepep', 'sun', 'velociraptor', 'shall', 'messag', 'arrow', 'award', 'billion', 'land', 'insult', 'ran', 'level', 'greatest', 'memetent', 'roll', 'wors', 'sign', 'deal', 'potato', 'present', 'worst', 'shooter', 'joey', 'sell', 'feelsgoodman', 'milk', 'leader', 'admin', 'front', 'beach', 'anti', 'tape', 'memori', 'grow', 'vega', 'shoot', 'delet', 'neg', 'caught', 'everywher', 'footbal', 'adjust', 'seriou', 'hug', 'ghost', 'breath', 'count', 'surpris', 'dirti', 'random', 'mike', 'biggest', 'celebr', 'intellig', 'alon', 'dear', 'onlin', 'birth', 'artist', 'trek', 'copi', 'congress', 'write', 'song', 'colleg', 'hasnt', 'sir', 'bar', 'cancer', 'store', 'earth', 'hoe', 'fbi', 'flex', 'yesterday', '75', 'design', 'skeptic', 'zipmem', 'piec', 'dick', 'bowl', 'bastard', 'track', 'arm', 'shot', '17', 'catch', 'kept', 'factori', 'hat', 'annoy', 'youtub', 'r', 'christma', 'peac', 'belong', 'handl', 'sink', 'shower', 'shirt', 'nightmar', 'guess', 'pop', 'easi', 'februari', 'belik', 'cell', 'carri', 'relationship', 'harrier', 'drug', 'angri', 'group', 'cheer', 'truck', 'data', 'invad', 'texa', 'kitchen', 'mamecent', 'cuz', 'rippep', 'emot', 'serious', 'comput', 'least', 'choic', 'deport', 'abernathi', 'key', 'attent', 'threaten', 'ronaldo', 'cousin', 'liber', 'upon', 'advertis', 'vladimir', 'l', 'assum', 'memedroid', 'punch', 'cast', 'histori', 'accus', 'unhealthi', 'nose', 'surviv', 'swear', 'militari', 'imgflip', 'compar', 'specter', 'interest', 'tini', 'jail', 'winner', 'glow', 'version', 'frabzcom', '1945', 'politician', 'weed', 'charli', 'comedi', '3000', 'demand', 'lead', 'rule', '1st', 'grandpa', 'underwat', 'lipstick', 'proud', 'shift', 'moon', 'kick', 'empti', 'usual', 'slap', 'aussiememescomau', 'ident', 'cop', 'knee', 'nu', 'ajabernathi', 'modern', 'mess', 'mistak', 'shake', 'list', 'tomorrow', 'rid', 'spell', 'decid', 'bush', 'whisper', 'bigger', 'superman', 'prepar', 'gandalf', 'monday', 'pant', 'fair', 'upset', 'daddi', 'cold', 'pie', 'korea', 'offic', 'netflix', 'record', 'possibl', '25', 'definit', 'ha', 'comic', 'host', 'pet', '2009', 'bae', 'none', 'swim', 'straight', 'wwwcleanmemescom', 'wed', 'messi', 'honey', 'apolog', 'kilo', '23', 'closer', 'studio', 'common', 'villain', 'form', 'spread', 'weekend', 'trap', '14th', 'veteran', 'racism', 'nsfw', 'soul', 'mcdonald', 'spi', 'toy', 'airplan', 'mum', 'prison', 'express', 'equal', 'pool', 'de', 'runner', 'unless', 'emo', 'nuke', 'redditor', 'condit', 'agent', 'em', 'till', 'hors', 'late', 'section', 'armi', 'coral', 'project', 'updat', 'exactli', 'misogynist', 'toilet', 'sing', 'offici', 'wood', 'uncl', 'farcethemusiccom', 'soccer', 'british', 'witch', 'manag', 'michel', 'choos', 'retard', 'dc', 'boo', 'amount', 'pound', 'format', 'violenc', 'civil', 'road', '60', 'spend', 'adolf', 'refer', 'citi', 'burn', 'contain', 'advic', 'pack', 'cover', '911', 'pocket', 'stolen', 'crook', 'poop', 'foot', '0', 'worth', 'climat', 'famou', 'roast', 'basement', 'strength', 'glock', 'collect', 'candi', 'seri', 'demon', 'jack', 'bore', 'logo', 'bath', 'crack', 'serv', 'nuclear', 'yall', 'dot', 'threat', 'entertain', 'student', 'wast', 'memecom', 'clearli', 'suffer', 'letter', 'critic', 'fbcomofficialtrollbollywood', 'paul', 'cooper', 'cloth', 'ate', 'privat', 'bottom', 'costum', 'n', 'duti', 'realiti', 'stephen', 'hawk', 'freakin', 'leak', 'societi', 'rose', 'declar', 'cake', 'abl', 'noodl', 'sub', 'haircut', 'salon', 'twilight', 'favor', 'reveal', 'direct', 'sacrific', 'wolf', 'blind', 'excus', 'strong', 'attach', 'scandal', 'steak', 'youth', 'chair', 'hill', 'lee', 'gif', 'shop', 'x', 'ya', 'playoff', 'download', 'fb', 'amaz', 'sens', 'bruh', 'wet', 'block', 'respect', 'david', 'solv', 'scale', 'sale', 'bilbo', 'assang', 'stress', 'far', 'mock', 'dig', 'biden', 'armani', 'appli', 'savag', 'wolverin', 'mene', 'syria', 'bull', 'matrix', 'scar', 'raw', 'alert', 'acid', 'kook', 'mrhenk', 'jacob', 'huenek', 'irl', 'effort', 'art', 'cannot', 'grumpi', 'past', 'cocain', 'cure', 'romant', 'despicablememinionsorg', 'laser', 'portrait', 'town', 'pro', 'senat', 'completegatecom', 'dank', 'draft', 'wipe', 'beingcom', 'advanc', 'servic', 'strike', 'da', 'educ', 'spoiler', 'obsess', 'request', '19', 'iceberg', 'step', 'code', 'apart', 'zero', 'factor', 'skin', 'mallard', 'cross', 'except', 'clear', 'thano', 'exact', 'payn', 'valid', 'spoil', 'perci', 'convict', 'object', 'mexican', 'loud', 'januari', 'madison', 'insert', 'bottl', 'compliment', 'darth', 'wwwaiveosit', 'someecard', 'judg', 'dobbi', 'confid', 'employe', 'owe', 'ideal', 'tire', 'pho', 'dinner', 'spoon', 'apocalyps', 'lannist', 'grenad', 'sort', 'weknowmem', 'beam', 'besid', 'cigar', 'facebookcomcompleteg', 'camo', 'seat', 'suddenli', 'voic', 'bruce', 'remain', 'gamer', 'discuss', 'themetapicturecom', 'magic', 'lockup', 'nigger', 'sarcast', 'cours', 'santa', 'slenderman', 'laden', 'croak', 'fought', 'north', 'damag', 'fascist', '90', 'fals', 'inappropri', 'twice', 'candl', 'creator', 'seem', 'shovel', 'affect', 'wonderwoman', 'bread', 'alright', 'option', 'loyalti', 'spot', 'democraci', 'tweet', 'rub', 'pradesh', 'impress', 'starter', 'pmslwebcom', 'john', 'fed', 'lay', 'patch', 'discov', 'trip', 'mari', 'rather', 'former', 'pappusoduff', 'hurrican', 'ho', 'troop', 'bond', 'capit', 'return', '30', 'workplac', 'aliv', 'tax', 'score', 'beard', 'spooki', 'delici', 'gate', 'style', 'energi', '420', 'el', 'smoker', 'doubt', 'starv', 'intern', 'consum', 'imaginari', 'groceri', 'protest', 'unplug', 'june', 'diylolcom', 'requir', 'regret', 'meal', 'ji', 'dunecat', 'spice', 'exguickmemecom', 'gordon', 'appar', 'gentleman', 'attempt', 'isi', 'holi', 'kany', 'nomin', 'bf', 'flu', 'pose', 'p', 'pa', 'gryffindor', 'worship', 'cameron', '14', 'spring', 'inch', 'redesign', 'quest', 'phil', 'gf', 'cinema', 'illeg', 'weight', 'abil', 'trick', 'middl', 'youd', 'hungri', 'facial', 'continu', 'trailer', 'shark', 'hyster', 'corleon', 'stark', 'lotr', 'soviet', 'brazzer', 'harass', 'loan', 'photobucket', 'bu', 'classroom', 'getti', 'ooh', 'bird', 'everytim', 'produc', 'earn', 'oo', 'paint', 'grandma', 'romney', 'debt', 'transform', 'detroy', 'lmao', 'difficult', 'announc', 'la', 'patriot', 'admit', 'idk', 'debat', 'patrick', 'gym', '22', 'tumblr', 'deer', 'invis', 'yell', 'partial', 'six', 'osama', 'atari', 'disappear', 'basic', 'nail', 'sinc', 'bin', 'crew', 'patienc', 'umm', 'vacat', 'nba', 'survey', 'wise', 'smash', 'ifunni', 'hockey', 'rowan', 'short', 'quick', 'dec', '31', 'stick', 'robin', 'ralli', 'app', 'blue', 'attend', 'login', 'earli', 'ruin', 'properti', 'center', 'tryna', 'tfreethoughtprojectcom', 'julian', 'chines', 'expert', 'focu', 'pun', 'pass', 'jordan', '24', 'nderscor', 'caitlyn', 'disagre', 'chill', 'health', 'push', 'stuck', 'august', 'graze', 'mrbean', 'jon', 'hack', 'net', 'bitten', 'duff', 'howlett', 'defend', 'icanhascheezburgercom', 'vrati', 'funnybeingcom', 'gear', '10yearchalleng', 'zone', 'bye', 'statu', 'freez', 'correct', 'develop', 'eachoth', 'profess', 'stone', 'rate', 'theft', 'network', 'goth', 'tough', 'alot', 'linkin', 'calm', 'silent', 'privileg', 'flag', 'sasuk', 'stock', 'subtitl', 'practic', 'replac', 'mainstream', 'career', 'scheme', 'violat', 'emegeneratornet', 'sequel', '2am', 'bend', 'dothraki', 'neck', 'immigr', 'edit', 'launch', 'depress', 'salut', 'phd', 'sausag', 'na', 'silli', 'partner', 'recreat', 'dessert', 'friendzon', 'buffer', 'shampoo', 'fool', 'machin', 'anja', 'suppos', 'ringgren', 'loven', 'bite', 'colombia', 'kerala', 'authoritarian', 'workout', 'melania', 'facebookdonb', 'fast', 'proudli', 'generatornet', 'chri', 'anda', 'busara', 'parodi', 'accord', 'exercis', 'humanslav', 'tale', 'sky', '03202008', 'flash', 'floor', 'sand', 'adventur', 'repost', 'directli', 'halfway', 'given', 'user', 'dial', 'situat', 'camp', 'crimin', 'behairdo', 'oven', 'bigli', 'result', 'deep', 'review', 'tongu', 'followforfollow', 'applaus', 'memegen', 'willi', 'pp', 'kirk', 'bought', 'kamikaz', 'opposit', 'appropri', 'piss', 'trigger', 'immedi', 'presidenti', 'salvador', 'lo', 'secur', 'shitno', 'hermion', 'wool', 'snow', 'fashion', 'stubborn', 'pronounc', 'tomarrow', 'liar', 'baggin', 'domest', 'martian', 'shoe', 'era', 'teenag', 'wonka', '39', 'outrag', 'spent', 'languag', 'ocean', 'driver', 'fbcomfeelmyheartpain', 'plaguei', 'screen', 'thoma', 'isast', 'reveng', 'nonstop', 'whatev', 'panther', 'barneystinson', 'planet', 'saim', 'rellot', 'miniatur', 'legendari', 'worldi', 'fema', 'abc', 'confus', 'clown', 'mordor', 'electr', 'fear', 'ground', 'fbcomminionquot', 'dali', 'valentin', 'billi', 'bartend', 'petti', 'suppli', 'germani', 'jealou', 'drew', 'bob', 'targaryen', 'bucket', 'shhhhhh', 'chick', 'fill', 'thenewsclan', 'af', 'myn', 'tragedi', 'dani', 'watchdog', 'etern', 'sweden', 'passeng', 'repeat', 'fellow', 'childhood', 'urg', 'experi', 'whatchu', '516', 'secretari', 'speed', 'unemploy', 'christian', 'uwebollock', '2nd', 'accardo', 'centuri', 'improv', 'dentist', 'memecentetcom', 'superior', 'chosen1', 'slept', 'juggaloci', 'caughttoni', 'summer', 'alrighti', 'bcbaba', 'scare', 'hospit', 'meanwhil', 'research', 'technic', 'stalin', 'south', 'peter', 'owner', 'stranger', 'memesxyz', 'mood', 'capri', 'cancel', 'wing', 'funnycat', 'pray', 'imao', 'nem', 'michael', 'crash', 'thirsti', 'australian', 'templat', 'gift', 'wwwww', 'ad', 'conard', 'weak', 'bee', 'brush', 'pill', 'phelp', 'sold', 'steven', 'cost', 'c', 'tonight', 'broken', 'member', 'bless', 'orang', 'howard', 'quiet', 'um', 'felt', 'central', 'qualifi', 'resolut', 'chip', 'dare', 'disast', 'finda', 'prez', 'leaf', 'dammit', 'typetextcssolmargin0padding0t', 'administr', 'coulson', 'fiscal', 'across', 'stereotyp', '388', 'td', 'brilliant', '180', 'poss', 'backward', 'buggieus', 'lowkey', 'cube', 'nevermind', 'memezcom', 'atkinson', 'aceth', 'didyouknowblogcom', 'nake', 'jamaica', 'sorelatabletumblrcom', 'colman', 'franc', 'certif', 'march', 'remind', 'pneumonia', 'locat', 'lemon', 'htmlheadmeta', 'contenttexthtml', 'charsetutf8', 'httpequivcontenttypestyl', 'term', 'barricad', 'meregeneratornet', 'ravindra', 'canadian', 'commit', 'custom', 'whatdoumemecom', 'georg', 'woke', 'difficulti', 'kneel', 'pile', 'fred', 'idont', 'jadeja', 'betray', 'cultur', 'starbuck', 'neutron', 'valu', 'dat', 'religi', 'django', 'dope', 'ascend', 'unchain', 'reciev', 'tobey', 'proof', 'laptop', 'demonstr', 'saddest', 'etch', 'broke', 'muslim', 'withoutse', 'explor', 'grind', 'slice', 'addict', 'victori', 'wpt', 'thursday', 'wdt', 'wrogn', '352018', 'wroon', 'neither', 'bijil', 'incept', 'bail', 'fridg', 'knowledg', 'dinosaur', 'trilog', 'nye', 'jdt', 'arriv', 'imprison', 'reviv', 'abus', 'thali', 'nurs', 'normi', 'bazinga', 'jenner', 'theism', 'regress', 'hiwev', 'ir', 'travel', 'wave', 'diaz', 'butter', 'flood', 'youll', 'dump', 'jk', 'basebal', 'justin', 'quota', 'belov', 'princ', 'uh', 'hhd', 'dixon', 'axe', 'investig', 'disproportion', 'snap', 'mal', 'zom', 'ignor', 'logan', 'wri', 'gona', 'homag', '80', 'overli', '935', 'ami', 'chosen', 'wsoviettoucan', 'bra', 'involv', 'cup', 'deflat', 'drag', 'asleep', 'puppi', 'cook', 'line', '21', 'condom', 'pain', 'suggest', 'funnypicspluscom', 'riot', 'queen', 'vaniti', 'pricelesscrav', 'skip', '3rd', 'pog', 'engin', 'abundantli', 'eee', '70', 'titti', 'shadow', 'jakemakesmem', 'pui', 'talent', 'harley', 'rodrigo', 'math', 'elon', 'tempor', 'tit', 'animatron', 'reapairi', 'chest', 'catbre', 'hatr', 'matur', 'dutert', 'realdonald', 'bubbl', 'whata', 'button', 'canteven', 'cadgrm', 'rickgrim', 'hil', 'corsi', 'nearest', 'fbwallpicscom', 'carlsburnbook', '15k', 'mous', 'truli', 'con', 'twd', 'titl', 'cana', 'spider', 'privaci', 'bother', 'makinracist', 'anxieti', '151', '600', 'themfilthi', 'decis', 'storm', 'kike', 'colorado', 'solo', 'bake', 'legal', 'cator', 'collid', 'coma', 'tortur', 'toucan', 'split', 'buzzfe', 'west', 'fell', 'promot', 'diet', 'thousand', '13', 'xd', 'where', '71', 'footag', 'unhappi', 'cowboy', 'enemi', 'shrek', 'bebaba', 'jai', 'hind', 'equivel', 'stole', 'simanca', 'carlo', 'narnia', 'merica', 'logic', 'approach', 'buff', 'field', 'ne', 'prank', 'dri', 'someecardscom', 'hoemanc', 'bromanc', 'introduc', 'willfind', 'cherish', 'adam', 'popular', 'bun', 'per', 'stewart', 'uttar', 'sank', 'jefferson', 'di', 'heck', 'lege', 'enlighten', 'frankincens', 'taylor', 'dan', 'snore', 'oppos', 'hundr', 'chemic', 'douch', 'polish', 'fabul', 'archiv', 'icanhascheezburg', 'iron', 'topic', 'tour', 'scumbag', 'stiernecom', 'gunfre', 'institut', 'eddard', 'chennai', 'captainci', 'ussf', 'finest', 'buket', 'justplay', 'captainon', 'notar', 'fault', 'roflbot', 'particip', 'mix', 'bathroom', 'mummi', 'dolikethat', 'blanket', 'nan', 'iceland', 'md', 'dirt', 'antagonist', 'ismil', 'major', 'invent', 'duck', 'homework', 'greet', 'wore', 'novemb', 'expir', 'lock', 'role', 'apr', 'empow', 'khal', 'prefer', 'non', 'g', 'weve', 'sneez', 'report', 'cheerio', 'sacrif', 'wealth', 'detail', 'richand', 'illiter', '29', 'dean', 'wednesday', 'stud', 'cffi', 'inherit', 'bank', 'unicorn', 'hahahaha', 'exampl', 'mc', 'annual', 'memecentercomgodfather85', 'wazzzuuuuppppp', 'waazuuuuuup', 'nalocom', 'waazzzuuuuuppo', 'toni', 'grim', 'mame', 'featur', 'rent', 'decad', 'meirl', 'flame', 'neil', 'reassur', 'soup', '1980', 'motherfuck', 'al', 'th', 'slaveri', 'invit', 'clap', 'base', 'estat', 'mamelenl', 'heroin', 'loser', 'french', 'hawkey', 'stuff', 'toler', 'goal', 'reaccommod', 'monster', 'memebasecom', 'sc', 'gop', 'patriarchi', 'necklac', 'chef', 'ahead', 'minist', 'boromir', 'african', 'lit', 'neo', 'joseph', 'redneck', 'sent', 'sean', 'lizard', 'asia', 'haroldluvmeig', 'fursadelosdiosesfacebookcom', 'lima', 'dathi', 'cloud', 'gandalfwhit', 'lifeisgood', 'eaten', 'veggi', 'robot', 'tedmosbi', 'jame', 'lover', 'httpchuornotnetcuratecomstoriesrahulgandhimem', 'marshalleriksen', 'wizard', 'tinder', 'imigflipcom', 'marathon', 'lifeguard', 'homeboy', '16', 'dish', 'justic', 'werent', '9gagcomgag5186230', 'lookin', 'april', 'program', 'til', 'ny', 'virtu', 'diari', 'corpor', 'howimetyourmoth', 'beyonc', 'pig', 'gollum', 'www', 'bulli', 'float', 'martha', 'tall', 'aye', 'ted', 'china', 'paramount', 'mosaic', 'rocket', 'bit', 'folk', 'despic', 'cracker', 's6e12', 'potenti', 'photograph', 'facepalm', 'wick', 'pilot', 'natur', 'rifl', 'bobama', 'tie', 'trollm', 'killsol', 'hahahahaha', 'prove', 'hahahahahaha', 'wardrob', 'whoever', 'aragon', '69', '1955', 'upscalequot', 'erg', 'total', 'violent', 'pink', 'streak', 'epic', 'citizen', 'funnier', 'gameofthron', 'victim', '161', 'began', 'dost', 'mere', 'eric', 'dono', 'collegememes99', 'xam', 'tum', 'moabmoth', 'dath', 'cum', 'moab', 'item', 'tellimg', 'author', '55', 'fanfict', 'vagina', 'bare', 'joelljerrett', 'calmer', 'xphaze', 'anytim', 'majakiacom', 'blend', 'len', 'poni', 'tyrion', 'lotion', 'contact', 'propaganda', '1248pm', 'lesbian', 'metro', 'freeli', 'troubl', 'offens', 'hurri', 'guard', 'mysteri', 'defeat', 'unlov', 'musk', 'staff', 'sudden', 'singer', 'handsom', 'recov', 'er', 'tool', 'cataddictsanonymous', 'ti', 'yep', 'hedgehog', 'commun', 'dictat', 'ce', 'pee', 'terror', 'wrap', 'screw', 'sword', 'quinn', 'event', 'funniest', 'immort', '1933', 'mexico', 'navi', 'igot', 'sh', 'balloon', 'q', 'scoopwhoopcom', 'lectur', 'taco', 'match', 'mememakernet', 'unsink', 'buddi', 'movieifunnyco', 'tolkien', 'anybodi', 'il', 'glad', 'negro', 'snapon', 'mar', '67', 'saya', 'shell', 'mein', 'bloom', 'hollywood', 'carpet', 'rath', 'disabl', 'breh', 'charlwood', 'humor', 'zayn', 'exclus', 'cock', 'preciou', 'san', 'bobamamem', 'prusunod', 'honest', 'teeth', 'unrealist', 'perfum', 'isa', 'threw', 'rubix', 'effect', 'innoc', 'raptor', 'web', 'destruct', 'snort', '10yearschalleng', 'invest', 'payback', 'chees', '1081', 'liberalspleas', 'kavanaugh', 'weapon', 'awar', 'cooki', 'hurriedli', 'fund', 'ifunnymobi', 'nois', 'holla', 'damm', 'shield', 'wild', 'vincent', 'precis', 'motion', 'cesa', 'rosetta', 'comet', 'wich', 'jule', 'angel', 'pin', 'watermelon', 'sock', 'healthi', 'superhero', 'pud', 'watchman', 'vintag', '101', 'visibl', 'httpmemecrunchcom', 'cb', 'struggl', 'essenti', 'paper', 'rise', 'interact', 'doubl', 'shape', 'cuickmemecom', 'lotsofhumorcom', 'dildo', 'replic', 'transit', 'how', 'wrote', 'anon', 'oppress', 'tech', 'timelin', 'davo', 'terrorist', 'ww3', 'imposs', '1999', 'roblox', 'declin', 'desper', 'wander', 'franchis', 'curat', 'contriv', 'persona', 'poslocom', 'browser', 'epli', 'amen', 'sciss', 'travon', 'higher', 'endors', 'price', 'follow4follow', 'reddit', 'makeamemecom', 'nald', 'paycheck', 'erri', 'battlefield', 'assist', 'otour', 'quotescom', 'innov', 'hip', 'jerrytravon', '6h', 'ppl', 'unlock', 'christ', 'payin', 'royal', 'suicid', 'turkey', 'bigotri', 'nearli', 'sugar', 'mcnugget', 'slut', 'makeup', 'brown', 'outi', 'fulli', 'patiem', 'havin', 'nflmeme', 'tea', 'ear', 'poison', 'vet', 'thirteen', 'quotein', 'olcoseb', 'accur', 'frederick', 'ownedcom', 'fredtjoseph', 'georgehwbushfuner', 'bleed', '14k', '36k', '1207', '05', 'wifi', 'bunch', 'motiv', 'magazin', 'expens', 'sarcasmlolcom', 'influenc', 'captur', 'fir', 'ten', 'donat', 'benjamin', 'te', 'depp', 'johnni', 'gang', 'sec', 'argument', 'martin', 'illegali', 'congratul', 'thor', 'somewher', 'sharp', 'moral', 'sander', 'colour', 'berni', 'imgiipcom', 'attorney', 'brazil', 'incred', 'period', 'egg', 'brand', 'sincer', 'nerd', 'rain', 'danc', 'ador', 'elev', 'fox', 'isgay', 'contracept', 'rvcj', 'geek', '2000', 'rice', 'muggl', 'auto', 'bag', 'surrend', 'punish', 'church', 'laundri', '00', 'payup', 'map', 'burst', 'dudesbelik', 'nick', 'niggasbelik', 'seasov', 'hd', 'flat', 'su', 'texan', 'outfit', 'plot', 'explos', 'followm', 'impact', 'mod', 'champion', 'limit', 'cuban', 'nochillzon', 'stage', 'convers', 'vice', 'damp', 'nochil', 'instalik', 'babyshow', 'jean', 'font', 'reserv', 'nein', 'unfair', 'revers', 'kiuteni', 'green', 'sequest', 'snape', 'surfac', 'poll', 'cuba', 'hijack', 'cho', 'rebel', 'roug', 'daili', 'alli', 'sentenc', 'await', 'chiellini', 'inner', 'shame', 'hai', 'theyv', 'friendli', 'bigbon', 'enabl', 'atlant', 'race', 'standard', 'secretli', 'poker', 'doggi', 'built', 'stern', 'privacy2018', 'hanniti', 'donna', 'guam', 'cyru', 'boat', 'bot', 'kniw', 'antivaxx', 'wine', 'unstauratteripouvom', 'nword', 'officialinternet', 'niccag', 'hailin', 'mutat', 'theme', 'substitut', 'shave', 'eyebrow', 'stem', 'orc', 'chimney', 'snake', 'hulk', 'mileven', 'mikesmemeso', 'grandson', 'cabl', 'chopstick', 'escap', 'harriet', 'maam', 'ah', 'y', 'nasti', 'johnnydepp', 'sleepi', 'memecreatorcom', 'contract', 'seek', 'action', 'gaze', 'aw', 'authent', 'sinatra', 'humong', 'will', 'slytherin', 'rennebrog', 'wilfordbrimli', 'nopewrong', 'allegi', 'charl', 'fli', 'chaplin', 'agenda', 'breakup', 'android', 'ant', 'rudi', 'noon', '216', 'memesdaili', 'solar', 'filthi', 'organ', 'trophi', 'resist', '27', 'feb', 'cricket', 'cash', 'lower', 'od', 'e3', 'teddi', 'headphon', 'karl', 'furnitur', 'trial', 'mukesh', 'nitin', 'memegeneratorcom', 'island', 'moan', 'kicker', 'tuesday', 'recognit', 'divorc', 'vaccin', 'phish', 'somalia', 'includ', 'bruuuuuuhhhh', 'absurd', 'lavar', 'boast', 'ukrain', 'gronk', 'madhya', 'freak', 'diplomaci', 'bewar', 'accomplish', 'sociopath', 'blew', 'yr', 'sigh', 'amp', 'karat', 'meta', 'gari', 'meminionsorg', 'gc', 'thai', 'subject', 'maguir', 'muai', 'gr8', 'superbowl', 'scroll', 'skeleton', 'comfi', 'chose', 'duz', 'bubblesand', 'pleasur', 'target', 'fuckjerrysdraft', 'pmwhiphop', 'crimea', 'permiss', 'thatjacket', 'asm', 'uniqu', 'wor', 'magnabad', 'deltathrillar', 'anarchocommunist', 'anarchist', 'injuri', 'pal', 'inject', 'bounc', 'asim', 'unfortun', 'arc', 'ingil', 'po', 'penalti', 'court', 'horrifi', 'mass', 'within', 'midair', 'construct', 'mamamoon', 'closet', 'span', 'babylon', 'daeneri', 'danygonebad', 'imfao', 'funnyshit', 'global', 'greg', 'walker', 'execut', 'wef', 'boner', 'concern', 'denni', 'rodman', 'lone', 'ronpaul', 'endthef', 'flumind', 'tragic', 'rand', 'ickmemecom', 'guilti', 'melt', 'platform', 'alarm', 'understood', '40', 'peasant', 'honeyduk', 'exchang', 'yearschalleng', 'kimjong', 'craziest', 'bulla', 'excel', 'rude', 'buffalo', 'spongebob', 'ringsyour', 'spreadabl', 'acm', '87c', 'row', 'hodor', 'rapper', 'pregnanc', 'drama', 'kitten', 'orgasm', 'process', 'grey', 'earl', 'mutant', 'kgb', 'prematur', 'gerald', '1973', 'wasley', 'granger', 'antihillari', '300', 'bobbob', 'pasanga', 'domin', 'due', 'absolut', 'minor', 'whose', 'textual', 'sabc', 'vin', 'nig', 'funer', 'assault', 'mcgrabbin', 'horribl', 'weav', '84', '8th', 'mafia', 'jackson', 'peni', 'ryan', 'ceel', 'happycat', 'liverpool', 'karen', 'ultra', 'terribl', 'ancestor', 'channel', 'rabe', 'bet', 'grade', 'transgend', 'getusi', 'babe', 'pancak', 'boundari', 'contort', 'bullsht', 'scientist', '07', 'mask', 'pappu', 'memecentercomcom', 'priest', 'possess', 'consent', 'istock', 'tab', 'hood', 'fbcomminion', 'nicki', 'comed', 'ay', 'cartoon', 'profil', 'connect', 'heaven', 'tamfli', 'funnyismcom', 'happywism', 'pg', 'dcmarvelcomicsmovi', 'ripgen', 'grown', 'contou', 'wonti', 'professor', 'nbamem', '99', 'jeremi', 'farther', 'giovanni', 'rewatch', 'bow', 'recycl', 'castl', 'trash', 'kitchencom', 'jfk', 'ross', 'halloween', 'scari', 'certainli', 'thatll', 'asshol', 'depart', 'catbreedselectorcom', 'grab', 'inspir', 'qualiti', 'pl', 'coincid', 'philippin', 'whip', 'twinkl', 'warfar', 'some', 'funnymem', 'spidey', 'sen', 'detect', 'legion', 'articl', 'pinal', 'elminin', 'accessori', 'board', 'cloak', 'missil', 'smartb', 'fantasi', 'confirm', 'melenia', 'zippoman777', 'patriarch', 'bokuwachikuwa', 'netanyahu', 'intemet', 'ngflipcom', '1964', 'lesson', 'nowher', 'bt', 'peekab00', 'ishit', 'allkpopcommem', 'meant', 'microphon', 'marin', 'bass', 'iq', '2020', 'mate', 'conserv', 'unibrow', 'album', 'forti', 'cheap', 'hq', 'liberti', 'kentucki', '54', 'drown', 'trend', 'exhibit', 'pundit', 'grizzli', '537', 'ii', 'elman', 'selfhat', 'fhrer', '1943color', 'meow', 'empir', 'viral', 'unabl', 'mu', 'poo', 'huge', 'aragorn', 'memet', 'synthet', 'theoscar', '1994', 'haunt', 'thunder', 'youactual', 'zuckerbergmem', 'slow', 'thope', 'bench', 'written', 'downvot', 'barri', 'atheist', 'anakin', 'safer', 'holder', 'momma', 'ahemm', 'skt', 'commonfolk', 'cotton', 'unti', '200', 'tripl', 'background', 'heavili', 'tho', 'gofollow', 'lift', 'grant', 'min', 'yasss', 'complex', 'often', 'sht', 'lego', 'legen', 'bullet', 'timepar', 'propos', 'marriak', 'breakdown', 'constant', '2008', 'purpos', 'mountain', 'along', 'pearlsuicid', 'afriendofmin', 'eyelin', 'openli', 'doin', 'nope', 'juli', 'swift', 'epistemolog', 'latest', 'butthol', 'milleni', 'geez', 'journey', 'bankster', 'lmfao', 'twist', '434', 'lyric', '1234', 'jewish', 'bluetooth', 'unbeliev', 'nyc', 'shuttersto', 'igmarvelmem', 'ersteck', 'joinedirsa', 'circa', 'brynndowney', 'mewhat', 'g20', 'dairi', 'golden', 'blood', 'seccom', 'skyler', 'nighth', 'gapbagapu', 'hypnot', 'soemth', 'owl', 'solut', 'psuedu', 'waist', 'okayyyyyi', 'grass', 'microsoft', 'itdari', 'wthe', 'sourc', 'oop', 'legenwait', 'aaaargh', 'hypnotist', 'incest', 'brought', 'quicki', 'oxygen', '495', 'surgeri', 'iclear', 'ido', 'o', 'mic', 'qwertyuiop', '43', 'wecant', 'examin', 'dealer', 'buri', 'yiu', 'clog', 'xoxo', 'dubai', '19332016', 'frozen', 'foster', 'gapbagapnet', 'guysthen', 'emerg', 'pt', 'complic', 'hunger', 'wewant', 'montrealmemescom', 'montreal', 'brett', 'nhl', 'tyre', 'zxcvbnm', 'max', 'exi', 'comin', 'rt', '47', 'explod', 'balanc', 'shutupimtalkingcom', 'religion', '173', '078', 'vandal', 'wrench', 'hilift', 'mansion', 'bedroom', 'si', 'insecur', 'empower', 'marx', 'aquarium', 'funnymobi', 'fric', 'nanosompon', 'jata', 'breast', 'although', 'bradi', '207r', 'karma', 'sunshin', 'soft', 'slt', 'gather', 'salt', '1938', 'comrad', 'waiter', '66', '2h', 'godsmack', 'starvat', 'ifella', 'asdfghjkl', 'memesc137', 'felix', 'wage', 'matt', 'mamelenteri', 'imagem', 'incom', 'b1tch', 'council', 'corner', 'shown', 'juan', 'wrestlingjok', 'frigger', 'throttl', '239', 'underworld', 'funnymemecom', 'commission', 'ieat', 'coach', 'rill', 'hannah', 'teen', 'squishi', '243', '4540', 'charm', 'hmm', 'reliabl', 'andi', 'papa', 'ridicul', 'photogen', 'bikerider9', 'handcraft', 'butterstock', 'twinki', 'nfl', 'tempt', 'imageid', '9th', 'johnson', 'siri', 'prom', 'est', 'clownfish', 'hop', 'memecr', 'economi', 'gandalfthewhit', 'shouldnt', 'smart11', 'when', 'menshumor', 'vh1', 'mightiest', 'unstabl', 'phrase', 'thinki', 'tight', 'nah', 'parliament', 'frickin', 'feder', 'accid', 'funnycatmemesxyz', 'disturb', 'cent', 'hay', 'martial', 'beef', 'whatch', 'reject', 'smug', 'monkey', 'wyo', 'barclay', 'nofucksgiven', 'mardi', 'gra', 'harder', 'digest', 'midnight', 'dragon', 'nailedit', 'mrw', 'lyin', 'm', 'deni', 'geti', 'age20', 'mshotyour', 'bald', 'egalitarian', 'walsh', 'omon', 'timesheet', 'surround', 'unsuccess', '7am', 'ebeentheretho', 'slightli', 'dankland', 'gandalfthegrey', 'rush', 'larryisr', 'impract', 'rail', 'somehow', 'blowjob', 'usernam', 'cemeteri', 'assassin', 'gandalfwhite23', 'lion', 'password', '49', 'decaffein', 'lack', 'anonym', 'kowalski', 'bff', '22nd', 'sang', 'iti', 'boob', 'admir', 'pn', 'bereit', 'girli', 'cumcel', 'reap', 'inicht', 'ue', 'pregnant', 'eww', 'hashtag', '6th', 'killallmen', 'photoshop', 'unzip', 'becuas', '7th', 'realshit', 'wayn', 'thate', 'adulthumor', 'drawang', 'africa', 'fumat', 'leonard', 'chimichanga', 'homeless', 'varianc', 'richard', 'bettermemecom', 'homophobia', 'dalla', 'susan', 'lick', 'championship', 'oswald', 'memesnet', 'bigot', 'slam', 'carolina', 'walickrniemecom', 'memescrunchcom', 'thave', 'cr', 'isengard', 'preheat', 'octob', 'hobbit', 'sobas', 'wond', '1971', 'holiday', 'logang', 'caption', 'duct', 'memegeneraornet', 'england', '32', 'unlik', 'toaster', '36', 'priceless', 'lifetim', 'shout', 'graduat', '1989', 'artifici', 'combo', 'flip', 'memegenerator', 'sportsmemecom', 'suscrav', 'iamstev', 'disappoint', 'wolfecom', 'unus', 'drevil', 'evolut', 'reproduct', 'ydefend', 'macintosh', 'dumbass', 'link', 'quarterback', 'theoden', 'snowbal', 'digitalsynopsiscom', 'onbamem', '230', 'lunch', 'mwhahahahaha', 'bridg', 'justifi', 'quit', 'river', 'forward', 'address', 'revolut', 'cara', 'illustr', 'paw', 'whartomernecom', 'creepi', 'percent', 'utsav', 'ojha', 'thatutsavojha', '504', 'nephew', 'bah', 'xenophob', '2011', 'tormund', 'friendship', 'forrest', 'bacon', 'houser', 'tap', 'east', 'engag', 'ambul', 'moreso', 'doogi', 'ohh', 'justeguot', 'billa', 'weinsteinp', 'thief', 'outcom', 'revis', 'hn', 'knife', 'bronn', 'lightskin', 'mam', 'whatsapp', 'arabia', 'whichev', 'siphon', 'gasolin', 'coc', 'vegan', 'chriscross', 'leonardodicaprio', 'saudi', 'obvious', 'steemit', 'behold', 'whaty', 'davidickecom', 'barbara', 'interrog', 'httpowlyghzj30jfmex', 'blsnapz', 'vinci480', 'coric', 'profession', 'poppa', 'insist', 'fort', 'duquesn', 'easier', '1758', 'rephras', 'sarcasm', 'latina', 'propan', 'dedic', 'jan', 'sweat', 'add', 'rach', 'fist', 'van', '83', '45', 'fifti', 'helmet', 'thet', 'nel', 'shade', 'zukerberg', 'unfollow', 'hon', 'mobil', 'multipl', 'altern', 'dunk', 'drgrayfang', 'self', 'smith', 'geno', 'dadd', 'tlale', 'capitalist', 'seattl', 'kidney', 'mirror', 'rapid', 'morethan', 'ditf', 'harvin', 'aaah', 'derrick', 'chicago', 'thug', 'select', 'noroviru', 'vile', 'spew', 'cream', 'squirrel', 'microwav', 'armor', 'label', 'minimart', 'extrem', 'mm', 'miungisi', '255', 'fyck', 'painter', 'saturday', 'hilton', 'mitten', 'sake', 'muscl', 'hiphop', 'measur', '21st', 'cd', 'useless', 'cl', 'ch', 'copyright', 'winterfel', 'selector', 'catlik', 'recogn', 'westero', 'melioda', 'sorta', '5am', 'homi', 'castro', 'deku', 'majest', 'furi', 'sunday', 'zut', 'maturan', 'catbreedselect', 'marg', 'oppo', 'wwwcrickettrollscom', 'command', 'bi', 'imgflipi', 'lust', 'shitti', 'goddamnit', 'floppi', 'barbi', 'client', 'gabriel', 'dreamhous', 'uzumaki', 'hbo', 'dh', 'viru', 'ab', 'swap', 'bio', 'kfc', 'perfectli', 'skinni', 'just', 'sudoku', 'hotter', 'pradhan', 'memelenl', 'theblerdvis', 'area', 'yu', 'despit', 'imgilipcom', 'nag', 'suspicion', 'adopt', 'chine', 'couli', 'tomato', 'wig', 'funnni', 'riid', 'thetcellit', 'se', 'irscid', 'bunnymem', 'ci', 'whatho', 'poutica', 'wwwcontatto', 'livememecom', 'boost', 'sarah', 'ray', 'integr', 'girlbyefriday', 'secrei', '56', 'wehatepopcountrycom', 'bookcomnbamcamin', 'filihi', 'asham', 'diriu', 'mememak', 'tsouk', 'lightbulb', 'meri', 'kkk', 'menecerl', '11025', 'simon', 'rewind', 'spare', 'f1', 'volunt', 'uteru', 'wwwscoopwhoop', 'wwwscoopwhoopcom', 'mounti', 'quitter', '5e', 'scottish', 'crowd', '46', 'wound', 'harmon', 'memeladen', 'tll', 'chilli', 'misogin', 'thronesmem', 'op', 'plastic', 'mvp', 'portia', 'maxican', 'cathedr', 'justiccicaguemem', 'puta', 'ac', 'mea', 'especi', 'giroca', 'ejacul', 'warrior', 'infidel', '1be', 'isil', 'rachel', 'memeshapercom', 'recess', 'passport', '449', 'awak', 'quickli', 'mower', 'nomine', 'snatch', 'ogl', 'coffeelov', '3you', 'giant', '4congratul', 'battl', 'schutz', 'toddler', 'puppet', 'imgpcom', 'danap', 'dawg', 'shock', 'recal', 'badg', 'yard', 'tam', 'mgom', 'apitnobaka', 'satisfi', 'ligma', 'bedfellow', 'breakfast', 'anatomi', 'shat', 'mgpcom', 'faster', 'accumul', 'visa', 'peta', 'sesam', 'confront', 'guid', 'sadanduselesscom', 'iran', 'seatbelt', 'instasingl', 'jelli', 'racistmemescom', 'clue', 'uk', 'deathbeforedecaf', 'phra', 'smileu', 'low', 'interview', 'themgainzoffici', 'patient', 'kindergarten', 'zuc', 'cabinet', 'tide', 'case', 'pope', 'destori', 'polici', 'wii', 'foreign', 'sober', 'humuna', 'censor', 'soldier', 'kindli', 'chewbacca', 'haphazardli', 'furiou', 'proper', 'behav', 'thefunnyintrovert', 'tsweezy93', 'semest', 'antenna', 'putinmemess', 'poopcultureindia', 'pci', 'fellowship', 'kennyflow', 'brutal', 'ninjago', 'handd', 'repeal', 'xavier', 'product', 'pc', 'pe', 'shirtspic', 'twinsi', 'monica', 'fuckuk', 'soliv', 'bout', 'cavengerssup', 'crippl', 'pansi', 'denethor', 'jaim', 'kingslay', 'stewardslay', 'brows', 'wat', 'isold', 'glue', 'hed', 'doi', 'wheel', 'xx', 'webcast', 'lax', 'ya2x', 'checkmat', 'horni', 'doioh', 'local', 'market', 'sibl', 'een', 'murderclown', 'wenn', 'reuter', 'villian', 'lawn', 'tubman', 'among', 'yolo', 'fruit', 'bust', 'masculin', 'mac', 'freedommemescom', 'gangortak', 'tanksinatra', 'rope', 'vision', 'starkha', 'rejoin', 'satisfact', 'trendingnutscom', 'toxic', 'ultron', 'simpson', 'starta', 'basturd', 'rougha', 'speci', 'flashback', 'endang', 'narrow', 'brosb', 'lifeboat', 'tile', 'tuos', 'postmortem', 'motorcycl', 'avengersmem', 'reader', 'softwar', 'tyrant', 'loki', 'bankstersth', 'determin', 'regul', 'lighter', 'upsid', 'psychot', 'reset', 'parker', '382', 'prick', 'deaneggsandsam', 'socialist', 'confido', 'sobrno', 'mater', 'disapprov', 'gap', 'willywonka', 'setheverman', 'outburst', 'wholesom', 'fanci', 'allfemal', 'japan', 'robe', 'quickmemecon', 'eastcoasteden', 'wikipedia', 'scissor', 'glide', 'model', 'chump', 'ludicru', 'magneto', 'blerdvis', 'crapcom', 'memionscom', 'paradis', 'unexpect', 'elderli', '4th', 'rd', 'weasley', 'huh', 'didyouknotumblrcom', 'din', 'everythingbutdc', 'inal', 'sickli', 'taccident', 'ottomicbluecom', 'aswear', 'habsburg', 'fromth', 'roomcom', 'memelenleri', 'morgu', 'cowork', 'unlucki', 'zam', 'fbheart', 'nbc', 'heb', 'markl', 'luv', 'bingo', 'meghan', 'sheet', 'judgement', 'theonion', 'sermon', 'genewild', 'erod', 'hp', 'digit', 'qatar', 'snicker', 'hann', 'scratch', 'trwa', 'eam', 'chimp', 'banana', 'laina', 'minesweep', 'antichrist', 'interrupt', 'thrill', 'sadanduseless', 'laughingcolourscom', 'highlight', 'thatveganaussieblok', 'tuna', 'frame', '226', 'skydiv', 'alt', 'oiler', '120', 'nine', 'compromis', 'palac', 'gasp', 'legalfeminista', 'ayoff', '10year', 'avaflav', 'yeet', 'scold', 'yourcelebrityfactstumblrcom', 'respond', 'conb', '321', 'hardli', 'merkel', 'angela', 'chancellor', 'coal', 'spencer', 'insulatedstagola', 'choke', 'joffrey', 'unionbank', 'log', 'ipad', 'yurt', 'applic', 'phaser', 'realm', 'farmer', 'jeff', 'adera', 'jane', 'ribbon', '208', 'twinfinit', 'parson', 'aedavid', 'dncmedia', 'laid', 'nightw', 'pillow', 'moscow', 'collabor', 'sega', 'chaf', 'droid', 'muhammad', 'crypto', 'soundscienc', 'pragmaticpolit', 'wallet', 'prabha', 'relax', 'liquefi', 'mmu', 'fasten', 'irma', 'dian', 'oreo', 'etc', 'doot', 'tellu', 'ssshhhhh', 'theyll', 'fandom', 'site', 'feinstein', 'hahahah', 'transplant', 'quickmemeon', 'upgrad', 'lawyer', 'shaggi', 'clone', 'conquer', 'publish', '209rite', 'brad', 'mcgonagal', 'seguridad', 'tese', 'dond', 'indical', 'ca', 'levant', 'puddin', 'stater', 'fee', 'licenc', 'wwwhiphopmeasurecom', 'temegeneratornet', 'egoid', 'gu', 'upload', 'constantli', '88', 'montana', 'joint', 'abad', 'zuck', 'entertalescom', 'squat', 'sniff', 'protrump', 'jgeoffcomgodfath', 'mrdata', 'newton', 'hacker', 'slay', 'sauc', 'raider', 'previou', 'nervou', 'leepacey', 'sparkl', 'dotard', 'akhilesh', 'rainbow', 'qanon', 'theworkscouk', 'mattress', 'nasa', 'wreck', 'oscars2016', 'virginia', 'hipster', 'elvish', 'atmomwhyar', 'weiner', 'sacr', 'awesomewel', 'gifscom', 'inher', 'weneedfemin', 'owen', 'thanksgiv', 'ticket', 'infring', 'golf', 'sevak', 'georgio', 'slogan', 'gold', 'inhuman', 'joke4funcom', 'inabl', 'bog', 'htisticlicensecom', 'justiceleaguemem', 'jump', 'leaguemem', 'sania', 'bestactoroftheyear', 'thereven', 'gettin', 'nsa', 'surveil', 'ap', 'wiretap', 'laughter', 'rafael', 'cristiano', 'bracket', 'fourth', 'print', 'gray', 'ingl', 'del', 'traducir', 'ladylik', 'ancient', '785', '432', 'ruler', 'tribbiani', 'wesley', 'heas', 'testifi', 'booster', 'trench', '650', 'instamood', 'memeworld', 'swallow', 'wikihow', 'albu', 'odd', 'forgiv', 'eu', 'thin', 'reward', 'horoscop', 'gunman', 'pogo', 'gothshakira', 'toothbrush', 'puffin', 'disinfect', 'taxi', 'loyal', 'asylum', 'knighthood', 'nut', 'shh', '113', 'alwayswin', 'penn', 'officalgen', '82816', 'condon', 'xma', 'sumerian', 'devic', 'sneak', 'condescend', 'signific', 'nearchuck', 'wwwdorktowercom', 'toward', 'spooktob', '250', 'tamper', 'fur', 'humorkingdom', 'sustain', 'slipperi', 'hurl', 'snowi', 'nelson', 'myrvei', 'analysi', 'bark', 'mi6', 'aliensih', '10iul', 'mill', 'repopul', 'burger', 'latino', 'int', 'squeezin', 'lc', 'marvelcom', 'miracl', 'gloriou', 'stabl', 'boneless', 'erni', 'boi', 'diydespaircom', 'suitabl', 'sea', 'benjen', 'hunt', 'chase', 'intellect', 'mamegeneratorcom', '15th', 'vaa', 'checkout', 'babysit', 'fck', 'treason', 'grima', 'wyrmtongu', 'retir', 'heel', 'quarter', '51', 'muh', 'increasingli', 'obscur', 'segment', 'solid', 'heal', 'calori', '8x13', 'liquor', 'megyn', 'kelli', 'ginger', 'exkgb', 'yup', 'physicist', 'brave', 'clout', 'iftock', 'jy', 'resembl', 'jacket', 'similar', 'jabouki', 'redecor', 'toker', 'khodorkovski', 'gani', 'gizmodo', 'awoman', 'wax', 'carey', 'nowaday', 'prize', 'longrun', 'benefit', 'loung', 'deliv', 'flour', 'salad', 'prisma', 'tommi', 'avada', 'dunno', 'midget', 'faculti', 'instagramoliviabosschick', '150pm230pm', 'slari', 'whod', 'reven', 'krage', 'listock', 'embrac', 'dv', 'rcede', 'conscious', 'observ', 'medal', 'redredwin', 'giveuahint', 'hr', 'screenshot', 'miltonlawsoncom', 'thick', 'treatment', 'ishio', 'radio', 'wisdom', 'yaaa', 'orphan', 'itll', 'dent', 'wonderytho', 'sore', 'calvin', 'clock', 'bask', 'thicc', 'fallen', 'younger', 'shitpost', 'singapor', 'pre', 'und', 'meouch', 'diamond', 'stillrealtouscom', 'gawd', 'duidditig', 'harveyllb', 'splitsvilla', 'maleworship', 'biblic', 'masouerad', 'words2success', 'deathbattl', 'climb', 'tremend', 'grupi', 'gomiss', 'thefreethouchtprojectcom', 'manufactur', 'entiti', '1916', 'drool', 'chad', 'intoler', 'cultureand', 'dutch', 'ravenclaw', 'britney', 'spear', 'indi', 'mymuscl', 'ima', 'hottest', 'offhandedli', 'dismiss', 'fullblown', 'nickel', 'hiro', 'innuendo', 'lurk', 'hometown', 'aug', 'ylang', 'memeextremist', 'oni', 'fdni', 'giuliani', 'specif', 'greatpic', 'crisp', 'visitor', 'wellwish', 'distant', 'proedit', 'tuspir', 'aspir', 'amanda', 'tm', 'sall', 'mou', 'jazz', 'rnb', 'ralph', 'honestli', 'membership', 'invas', 'tshirt', '347', 'lact', 'wallpap', 'injustic', 'preefer', 'molest', 'meat', 'savageebruh', 'edward', 'subscrib', '90sgeller', 'ius', 'nimoy', 'dna', 'heil', '1943', 'cow', 'queue', 'floodwat', 'curs', 'lil', 'minecraft', 'wand', 'repub', 'risk', 'goodby', 'lyanna', 'badasss', 'crazier', 'frank', 'ars', 'arroyo', 'gustin', '636', 'strap', 'igthefunnyintrovert', 'blunt', 'cutest', '6am', 'viaggag', 'menefulcom', 'mangapanda', 'quickmem', 'entitl', 'hardik', 'tunderstand', 'infect', 'std', 'butbutbut', 'consider', 'settl', 'weknow', 'voiceoverfrank', 'domino', 'instagood', 'instadaili', 'miser', 'denial', 'dodg', 'melon', 'diseas', 'awkard', 'expos', 'spaghetti', 'cigarett', 'amina', 'hoax', 'belikebro', 'fuk', 'barber', 'cena', 'main', 'fam', 'thanksgivingwithblackfamili', 'rhyme', 'file', 'figer', 'spori', 'meniscu', 'crabb', 'harp', 'obedi', 'discord', 'kobe', 'spain', 'blueberri', 'disguis', 'belli', 'resum', 'london', 'afterward', 'rib', 'rapist', 'jokerlov', 'pen', 'supermodel', 'critter', 'farm', 'round', 'oncea', 'dumpster', 'silver', 'dari', 'bbq', 'wiam', 'prop', 'bambi', 'pooh', 'justcapshunzcom', 'wit', 'utubewayarmi', 'shed', 'nemegeneratornet', 'premier', 'sprint', 'cheerlead', 'individu', 'antifeminist', 'dropoff', '220pm', 'wan', 'creatur', 'flirt', 'dictionari', 'halo', 'envi', 'ishould', 'document', 'wildl', 'driveway', 'largeheart', 'ki', 'handout', 'tx', 'intimid', 'intelligentand', 'sophist', 'boric', 'donkey', 'thigh', 'ann', 'kaplan', 'kodak', 'catbreedselector', '6043', 'spirit', 'peanut', 'vers', 'cunt', 'repair', 'vouston', 'horror', 'rollin', 'profit', 'pursu', 'isaw', 'cord', 'tangl', 'eig', 'sceool', 'voyag', 'insur', 'neighbour', '9gagmobil', 'whir', 'aalu', 'tikki', 'rahulgandhi', 'avocado', 'supermarket', 'oliv', 'imgurl', 'fecal', 'picnic', 'saviour', 'quackiemecom', 'reynold', 'ommichang', 'pikachu', 'anagram', 'gaaaaaayyyi', 'petrolhead', 'occup', 'jello', 'trumpmemesnet', 'fbcommentallyemancip', 'casey', 'anthoni', 'milwauke', 'bencher', 'presenc', 'wee', 'freshli', 'swept', 'mauri', 'jeanluc', 'ballislif', 'gov', 'shutdown', 'jord', 'countless', 'lotrhun', 'scifi', 'basketbal', 'wide', 'chillin', 'buck', 'der', 'magician', 'americarepubl', 'rupe', 'aa', 'eatlivercom', 'hardest', 'crore', 'orwel', 'juic', 'hillarymememakercom', 'strongest', 'aditya', 'birla', 'vest', 'chamber', 'stefn', 'bribe', 'memecenet', 'ryder', 'ter', 'garlic', 'thatd', 'liampayn', 'approxim', 'brightsidem', 'shiba', 'particular', 'vodka', 'cong', 'wilson', 'tail', 'oblig', '1000', 'legit', 'divers', 'hector', 'ugg', 'appeal', 'teanderth', 'concentr', '61', 'nerdi', 'bug', 'whati', 'cap', 'founder', 'extraordinari', 'niggai', '5th', 'enorm', 'nerv', 'grobiend', 'onto', 'sach', 'hypothesi', 'kv', 'rosi', 'norton', 'ky', 'typicalterom', 'picturequtescom', 'jp', 'happier', 'instagran', 'deepli', 'cyberbulli', 'plu', 'mime', 'barrier', 'dolphin', 'televis', 'watson', 'reinvent', 'abolish', '900', 'megeneratornet', 'protec', 'joel', 'warner', 'grand', 'olymp', 'mama', 'reunion', '020', 'lap', 'bannedclubpenguin', 'notto', 'officiali', 'japanes', 'knightykingston', 'aid', 'gondor', 'espn', 'vogo', '1998', 'rl', 'lefthous', 'elimin', 'uber', 'wa', 'combat', 'loui', 'horseback', 'lighten', 'militarybas', 'ctv', 'tina', 'aggressor', 'heart100', 'whoi', 'maanagaram', 'andit', 'allov', 'miley', 'icanhasacheezburgercom', '1219', 'clip', 'marveltruefact', 'init', 'gl', 'orchard', 'becausespac', 'fortun', 'bebil', 'nojusticenoprid', 'bhai', 'oath', 'crosbi', 'brag', 'committe', 'interlink', 'sodormemez', 'gorilla', 'frown', '001', 'joyreactorcom', 'impeach', 'hemsworth', 'tsoukalo', 'jul', 'petzer', 'willem', 'hesit', 'coat', 'tendenc', 'dprk', 'thehardtimesnet', 'monitor', 'guitar', 'cm', 'memecept', 'ramak', 'spoke', 'saboo', '374', 'ificantfinish', 'accordingli', 'merlin', 'hawaii', 'facebok', 'walli', '1050', 'dab', 'wannab', 'teapainusa', 'tcc', 'gujarat', 'margarita', 'pyramid', 'bodybuildinghumour', 'gainz', 'ty', 'champ', 'content', 'quaterback', 'sanchez', 'memecreatororg', 'leftit', 'dispos', 'children', 'combin', 'pure', 'elector', 'themat', 'arthur', 'nebom', 'jackblack', 'hotlin', 'hoop', 'inevit', 'fresh', 'blog', 'diva', 'museum', 'union', 'volum', 'decor', 'sri', 'tgat', 'foriegn', 'chunk', 'ordin', 'stro', 'faith', 'independ', '112gloriou', 'nl', 'amul', 'gapbagapcom', 'franship', 'durant', 'paragraph', 'theolog', '64', 'twill', 'triniti', 'comix', 'bylif', 'deck', 'inventor', 'fotocom', 'kul', 'lieuten', 'bell', 'leagu', 'treasur', 'diplomat', 'annexur', 'predat', '0000', 'load', 'exhaust', 'brassod', 'creep', 'lug', 'kingswood', 'takin', 'coke', 'string', 'system', 'edcom', 'brow', 'subsidi', 'ramsay', 'asaway', 'wwwnishantdasnet', 'consensu', 'ru', 'implement', 'desk', 'cliff', 'princess', 'pronoun', 'vour', 'reincarn', 'pav', 'maga', 'felip', 'alongwith', '808', 'relationshipagr', 'tuten', 'bjp', 'bhakt', 'buti', 'andatrex', 'dive', 'canyon', 'veryoldand', 'tuse', 'techniqu', 'misfit', 'nugget', '9h', '2045', 'ob', 'plane', 'isupp', 'marsden', 'disord', 'ishu', 'plbiden', 'milkshak', 'hypertens', 'stahp', 'harveyspect', 'turtl', 'mastercard', 'couch', 'jar', 'cbscdc', 'obes', 'ching', 'ketchup', 'imgfilpcom', 'ulgi', 'cam', 'migrain', 'ilovelif', 'waylon', 'scam', 'badass', 'frail', 'breakabl', 'massacr', 'vito', 'loudest', 'crossov', 'stan', 'heavi', 'e17', 'ithaca', 'averi', 'tradit', 'ed', 'fm', 'gain', 'creativ', 'getnack', 'tumbuto', 'ufa', 'killer', 'morgan', 'blurt', '35', 'faggot', 'httpstcogmnahavso', 'cheeto', 'eleph', 'intens', 'jackass', 'blackhumorist', 'towel', 'vitaminhacom', 'acitroen', 'c4', 'loldamncom', 'z', 'probe', 'rrvenu', 'bethtot', 'tsoukalici', 'rough', '522', 'idol', 'rvcjinsta', '40m', '1942b', 'hawaiian', 'printer', 'falseit', 'nosugar', 'chin', 'wefcomicscom', 'jam', 'western', 'charger', 'quotesideascom', 'librari', 'badli', 'sweetheart', 'fa', 'kardashian', 'prssident', 'sheeran', 'headach', 'quiz', 'wind', 'nashvil', 'cruis', 'enclos', 'memedumpcom', 'mulder', 'coin', 'vape', 'teas', 'furri', 'liz', 'mandatori', 'danker', 'catnip', 'router', 'lg', 'progress', 'regular', '433', 'cooter', 'reggi', 'makememeorg', 'gameboy', 'washington', 'layout', 'syndrom', 'nom', 'mahe', 'va', 'bubl', 'trialbymem', 'koni', 'rearrang', 'gatsbi', '2013', 'gossip', '1496', 'stackoverflowcom', 'ceil', 'wwwrvcjcom', 'refresh', 'disgust', 'eight', 'gure', 'click', 'darl', 'powder', 'led', 'pavement', 'ayoola', 'pace', 'warcraft', 'temporari', 'omega', 'waterg', 'merit', 'sgt', 'bc', 'chat', '24pm', 'araneaesapien', 'fewer', 'weekday', 'tupperwar', 'rothschild', 'indigen', 'ninja', 'imgflipco', '1051', 'socket', 'reicht', 'steam', 'cal', 'tallto', 'worker', 'dori', 'senior', 'teme', 'weaker', 'urfl', 'hassan', 'asian', '15022019', 'perform', 'panic', 'funnyaf', 'so6', '653', 'yanderefam', 'oneesama', 'monsen', 'heartless', 'fenc', 'teh', 'classic', 'catcal', 'near', 'optimu', 'irrit', 'collud', 'memetenleri', 'smh', 'evict', '98', 'garvey', 'chao', 'jori', 'mat', 'exgirlfriend', 'chariti', 'tiger', 'ungrat', 'amus', 'plate', 'spoiltwoman', 'zuckerbergt', 'drove', 'soap', 'vehicl', 'borderlin', 'ministri', 'anawkward', 'funnyvideo', 'vacuum', 'bachmann', 'crazyhyenacom', 'sketchcomedi', 'kit', 'sh10067935t003', 'virtual', 'farrah', 'fowler', 'tvquot', 'momestachecom', 'memocioneratornet', 'shoplift', 'bheem', 'chota', 'haventt', '1623', 'walgreen', 'unbreak', 'gettyimag', 'benefici', 'andersen', 'mutual', 'therick', 'vu', 'gourmet', 'anger', 'quikememecom', '111118', 'youryour', 'cuddl', 'forgav', 'barey', 'homo', 'cheep', 'spock', 'prefegt', 'rick', 'stroke', 'memesofgameofthron', 'sickbay', 'sat', 'plice', 'lobster', 'ez', 'cabbagecatmem', 'eorgiso', 'marco', 'perspect', 'cedric', 'diggori', '839', 'weheartitcomaudreyofa', 'dreamer', 'vicki', 'needi', 'receiv', 'pfunnyintrovert', 'radiohead', 'thebraintickl', 'anatom', 'mern', 'sapien', 'mussolini', 'practis', 'sabbath', 'wboni', 'wew', 'pubic', 'trongportornet', 'foul', 'undress', 'democr', 'capitol', 'luvjjp', 'rancher', 'jolli', 'temptat', 'fourteen', 'raven', 'cape', 'comedydotcom', 'cliqu', '592', 'humanbeinglslleg', 'spank', 'squeez', 'olenegeneratornet', 'goodgodabov', 'chaumont', 'cet', 'igi', 'cnn', 'fwek', 'juggernaut', 'daylight', '505', '941', 'krang', 'pieceofshit', 'kt', 'mbule', 'nahari', 'ittookyou15', 'lab', 'augest', 'shunter', 'matti', 'blink', 'imeedi', 'agon', 'nutterstock', 'shuesick', '235', 'nobel', '350k', 'pledg', 'jagdish', 'unarm', 'toget', 'gmail', 'gmailchucknorriscom', 'homophob', 'gapbagepnet', 'melook', 'bluebonnet', 'imbecil', 'imgurpheelyk', 'forbidden', 'forest', 'arniegityergunoakley', 'assur', 'west001', 'edc', 'dekhbha', 'emma', 'meangirlsofpanemtumblrcom', 'zombieapocalips', 'imflipcom', 'brew', 'coffeemem', 'guylegeneratornet', 'everyway', 'display', 'dankmem', 'popcountri', 'orneri', 'facebookcomwehatepopcountri', 'nolapoog', 'badasseri', 'peekaboo', 'instacool', 'kevin', 'hart', 'menegerleraturnet', 'thatmakeamemeorg', 'detent', 'easter', 'no2', 'patrol', 'writer', 'shepherd', 'capn', 'bucketcom', 'howbow', 'dah', 'pickachu', 'ubugga47', 'hypocrisi', 'disineform', 'apologist', 'memegenetorcom', 'arhlistlelleensecom', 'edison', 'wwwcettechnologycommem', 'techsolmarketingcom', 'modif', 'tutori', 'vaibhav', 'lamevaibhav', 'yanni', 'laurel', 'moviepoet', 'httpstcojnqmeo1nep', 'zarri', 'closeim', 'theright', 'alwaysright', 'anarcho', 'communist', 'darksid', 'marisa', 'tablet', '33000', 'crabbi', 'pob', 'cinderellathem', 'omegl', 'hormon', 'youngwhit', '20122015', '918', 'magnis', 'cvv', 'signatur', '59', 'matrixnet', 'robertson', '139', 'zac', 'efron', 'idrunk', 'aound', 'pug', 'milli', 'uncanni', 'essay', 'ese', 'cherri', 'invalid', 'superheroin', 'thenerdyunivers', 'enfant', 'jare', 'leto', 'playdat', 'viciousveganvixen', 'kuwait', 'yemento', 'iraq', 'oman', 'channek', 'israel', 'yuno', '457', 'eddi', 'medicin', 'rajkanwar', 'chopra', 'fbcomgameoflaugh', 'susten', 'teat', 'awwyouguy', 'mademeink', 'unusu', 'uneasi', 'marilyn', 'monro', 'ishal', 'aaaaaaaaaaand', 'ege', 'chromosom', 'heisaresult', 'storag', 'coldest', 'pau', 'weigh', 'guin', 'fbbunkistan', 'therundova', 'consid', 'pentagon', 'wpa', 'squealer', 'rubbish', 'bale', 'missl', 'mykrain', 'memegenerator119', 'uari', 'shoutout', 'qb', 'sportsmemescom', 'applecom', '85', 'hammer', 'lighthous', 'brther', 'stinker', 'testimoni', 'inventori', 'pedo', 'appealsu', 'tryin', 'hatd', 'hulton', 'archivgetti', '994', 'fairforcemem', 'recip', 'bulanov', 'dermi', 'leaker', 'zuckerburg', 'beckham', 'faucratch', 'own', 'lavend', 'slayer', 'barnard', 'boer', 'recon', 'ernst', 'roet', '026', 'pussi', 'baad', 'midrol', 'pak', 'sahara', 'slack', '1259', 'mighti', 'mem', 'dislik', 'pork', 'porkupin', 'babey', 'ineken', 'heineken', 'dorit', 'shouldntv', 'italian', 'compil', 'prior', 'stream', 'wil', 'runtim', 'highli', 'lamp', 'victoria', 'tortilla', 'toupe', 'turf', 'cradl', 'treetop', 'meeeeee', '1400', 'fiction', 'counterpart', 'reallif', 'bigpimpin916ifunnymobi', 'poptropican', 'poptropica', '15000', 'deduct', 'om', 'portent', 'httptcoqfqbqzywcx', 'jaguar', 'afternoon', 'poutin', 'normand', 'gorgeou', 'ghz', 'dcfact', 'coolest', 'vapey', 'cameo', 'jackman', 'hugh', 'qiana', 'flori', 'toa', 'mcdouchefac', '16400', 'frustrat', 'unprepar', 'somth', 'remeb', 'kitteh', 'wheeli', 'captno', 'bourbon', 'mows', 'fantasylland', 'novic', 'eatin', 'garden', 'alllllrighti', 'asplor', 'shitheadstev', 'luther', 'blackmalcom', 'v12', '60l', 'instanc', 'quadcor', 'professork', 'friendofba', '11m', 'easili', 'diaper', 'horcrux', 'geta', 'gucci', 'revolv', 'funnyb', '9gagcomgag5446841', 'wwwmainwashedcom', 'sayinglmagescom', 'pencil', 'punditkitchencom', 'wwwfacebook', 'soda', 'nerf', 'dart', 'webcom', 'safelyendang', '1226', '1067', 'bbtmemesbtstevencom', 'junk', 'cig', 'desktop', 'cspan', 'raindrop', 'karthikkeyi', 'eeein', 'lare', '925pm', 'laze', '81415', 'lexi4prez', 'encourag', 'gratitud', 'ying', 'rake', 'karmaemegeneratornet', 'isabel', 'diffus', 'peppermint', 'healthcaregov', 'caution', '747827', 'chuniggu', 'arrog', 'grokkowski', 'whaaaaaaaat', 'iwasnt', 'misconduct', 'istil', 'trump30', 'shitbird', 'scandalpron', 'hernandez', 'reckless', 'epidem', 'fbcombestofgameofthron', 'visionari', 'ripof', 'cantt', 'i7', 'workingwhat', '8781', 'itun', 'miami', 'soundtrack', 'actress', 'combov', 'pokemecom', 'mylif', 'dodger', 'miliraru', 'furnitir', 'igloo', 'hhowimetyow', 'eoit', 'gr', 'fuckin', 'forehead', 'fatter', 'cane', 'resort', 'ashford', 'buckaroo', 'rmeme', 'degen', 'stat', 'cr7', 'wheni', 'throwa', 'brick', 'babyfat', 'pj', 'scarlett', 'tauriel', 'ancestr', 'chevi', 'impala', 'wwwlolsclubcom', 'ljust', 'peed', 'nativ', 'adderal', 'xxi', 'fonow', 'yogifanclub', 'kamal', 'ambassador', '1229', 'jun', 'lessgovmorefuncom', 'wwwcoopwhooocom', 's508p', 'httpstcornxvyyht44', 'scorses', 'behindscenesp', 'passang', 'gono', 'fakenew', 'dicki', 'playerssay', 'thang', 'requr', 'kadiadraw', 'markipliermem', 'stung', 'pettyastheycom', 'ofici', 'dave', 'rogain', 'task', 'activist', 'feminst', 'bravo', 'citru', 'creami', 'vanilla', '323', 'pensiv', 'pip', 'drake', 'sarco', 'mund', 'skit', 'monocl', 'dolli', 'parton', 'chompfath', 'arrang', 'mode', 'shuffl', 'noonish', 'thefreshpickl', 'throwback', 'n000000000000', 'vader', 'jolen', 'prequel', 'merg', 'infiltra', 'madagascar', 'experiment', 'blackmarcu', 'butch', 'rder', 'aerospac', 'astrophysicist', 'theoret', 'psat', 'reliz', 'interpret', '610pm', 'apprais', 'makercom', 'cerer', 'leeeee', 'donkthink', 'chart', 'homer', 'dummi', 'rel', 'manvi', 'sarin', 'yourquotein', 'cave', 'kingdom', 'femaleship', 'gstring', '7227', 'nickelodeon', 'incorrect', 'domi', 'thread', '2nerdcom', 'apartheid', 'islam', 'burqua', 'dadwhen', 'overtomyspac', 'yah000', 'tyson', 'byte', 'perhap', 'translat', 'refrenc', 'detector', '685', 'do', 'influx', 'bahama', 'unifi', 'moonyo', 'roflb01', 'bulb', 'inspect', 'complianc', 'aml', 'bid', 'sung', 'candid', 'suprem', 'dietician', 'banner', 'direwolf', 'devast', 'toshiadventur', 'readyforhillari', 'hpotter', 'shire', 'naah', 'allen', 'spideyifi', 'winningkrusti', 'krab', 'chum', '251', '000000006', 'bacteria', '499', 'caribbean', 'pirat', 'ifidownloada', 'packer', 'persist', 'nevertheless', 'intent', 'ascertain', 'distanc', 'maintain', 'sedin', 'sn', 'nonsexist', 'ledger', 'heath', 'curio', 'thebatbrand', 'funnypicsonli', '1346', 'capabl', 'databas', 'memeeulcom', 'deaf', 'circl', 'fitsi', 'scientif', 'method', 'intervent', 'institution', 'httpstcohtqyblerh', 'recognis', 'mgmhd', 'acr', 'aladdin', 'allahdin', '1224', 'uninterrupt', 'cookieokk', '1onli', 'dam', 'dwight', 'cket', 'bwant', 'sprous', 'cole', 'bword', 'hilariousdepot', 'nerddad', 'uno', 'httpstconpxbur8rs3', 'httpstcohfg6v9is9k', 'sofar', 'officialgerald', 'onmost', 'imugli', 'selectorcom', 'grape', 'beandidit', 'lea', 'dekh', 'amazingcomedian', 'sotal', 'ommy007', 'antarctica', 'vegtabl', 'kuntz', 'joshu', 'mistrust', 'attentiongovernor', 'timmi', 'reasonjonsnow', 'gota', 'shortcircuit', 'virgin', '2001', 'possibley', 'sum', 'skrillion', 'rr', '321dont', 'millionairesthingscom', 'bigbangtheori', 'spay', 'segreg', 'thata', 'kool', 'rhett', 'prisuxocom', 'sp', 'rec', 'feast', 'pmenu', 'sever', 'dogsworst', 'extens', 'househ', 'bamboo', 'panda', '1that', '2thata', 'humanfor', 'informationsearch', 'liver', 'quotesbookcom', 'bike', 'rusk', 'shaver', 'uncov', 'flight', 'myth', '4g', 'viserion', 'hun', '9x13', 'friendshacap', '0pi', 'habik', 'appoint', '0p', '0006', 'chain', '3145', '16thebigbang', 'salk31', '2705', 'tbbt', 'thebigbangtheori', 'antisemit', 'spokesman', 'nra', 'equat', 'differenti', 'vagabond', 'passion', 'mistakennet', 'dather', 'kedavra', 'mgflipcom', 'trialbi', '2014', '2004', 'stronger', '1972', 'thirti', 'riddl', 'agun', 'httpstcoonbj5bd7ao', 'dlau', 'alexi', 'onallkpopcommem', 'nonkpop', 'kpop', 'wwwfoghatnet', '19051943', 'divid', 'fullfil', 'backbench', 'thinkt', 'assign', 'maxandharveyfangirl1', 'descend', 'wealthi', 'heep', 'teller', 'intim', 'sisiga', 'httpstcoyy9hafglw', 'littlefing', 'tt1000111', 'chemtrail', 'reeact', 'angerey', 'astrogeekz', '8yearold', 'attwood', 'eel', 'kuronekofag', 'drsmashlov', 'mofo', 'cctv', 'packet', 'mkaifista', 'happend', 'humoarcom', 'cheillini', 'bayern', 'jobless', 'opportun', 'spiritu', 'piggi', '10000', '2007', 'qaeda', 'shrapnel', 'extract', 'helicopt', 'limewir', 'kazaa', 'tra', 'orlando', 'coconut', 'moist', 'negoti', 'tomboyish', 'bibi', 'adimin', 'eeve', 'minim', 'digniti', 'outlift', 'wristband', 'brithday', '1922', 'fustercluckusa', 'meineyeneratornet', 'micheal', 'you3', 'merchcom', 'blaster', 'procootballmochcom', 'motherinlaw', 'the87juju', 'ironi', 'seldom', 'absent', 'lovecraft', 'afford', 'peep', 'toad', 'umwhatcha', 'dm', 'footi', 'buffon', 'madrid', 'ked', 'seventh', 'jimmi', 'du', 'manuscript', 'inki', 'roof', 'pawprint', 'wwwfacebookcomseveruslilyalway', 'ingmar', 'teeni', 'facebookcomkaatupoochi007', 'booz', 'gimm', 'bankolar', 'woahitsjuanitotumblrcom', 'quantum', 'attitud', 'queer', 'agend', 'heterosexu', 'lgbtqiawtf', 'lizbuckley', 'buckley', 'primavera', 'pasta', 'theorist', 'idgaf', 'aaaaaaaaa', 'pepsod', '3g', 'coalgat', '2g', 'bergman', 'thrift', 'corbi', 'pinki', 'jerk', 'michal', 'lill', 'og', 'bitl', 'ramadan', 'banan', 'bitti', 'sene', 'whore', 'waterston', 'ston', 'watersto', 'properli', 'womanbornwomanrad', 'genderqu', 'diver', 'pedophil', 'tran', 'historian', 'ace', 'z28', 'vall', 'marriag', 'iig', 'assasin', 'twister', 'iget', 'cib', 'conspiraci', 'ina12', 'nesnaylon', 'autograph', 'ijmitecool', 'cowbelli', '495h', 'spack', 'burlap', 'glorigo', 'internat', 'ing', 'inequ', 'speechabout', 'drdavidduk', 'duke', 'vogu', 'fbcomlegendaryfact', 'earlier', 'clumsi', 'like1', 'chickenshit', 'backstab', 'veronica', 'mometenl', 'checkpoint', 'mcavoy', 'oxymoron', 'co', 'internatio', 'internatt', 'dino', 'diego', 'sation', 'sanoico', 'sportsmem', 'thenwowillfailcom', 'prglectcom', 'sia', 'classi', 'grandmoth', 'figurin', 'indy100com', '28th', 'danish', '11out', 'dracosredempt', 'episkeyfirewhiskeytumblrcom', 'tcl', '543', 'separatistgend', 'feministfemal', 'fu', 'enchan', 'temper', 'iye210', 'notimeforbullshit', 'fletdissemgoguy', 'firat', 'pier', 'frassati', 'bern', 'wmyb', 'abraham', 'lincoln', 'theofficeismscom', 'pluck', 'statement', 'rulin', 'shatter', 'ou', 'wiser', 'nitant', 'fishnap', 'overprotect', 'cholu', 'hatin', 'delus', 'tequu', 'chant', 'pregam', 'wwwdesmotivaciones', 'carfeel', 'honda', 'enthusiast', 'dentum', 'papamoist', 'grater', 'plal', 'publx', 'r1', 'boytm', 'nintendo', 'stereo', 'ct', 'brushio', 'crest', 'ati', 'corad', 'memeliciouss', 'pablo', 'algorithm', 'yaer', 'defi', 'incid', 'olama', 'httpbitlyagbcjz', 'instalar', 'rnew', 'wenignogscom', 'memescon', 'obiwan', 'ahh', 'frankcifaldi', 'cifaldi', '450', 'transfus', '800', 'toothbat', 'wreckag', 'rijok', 'ifactsdaili', 'fk', 'prairi', 'prolong', 'herrera97', 'herrera', 'regrow', 'bone', 'sovietgulag', 'ww2', 'idis', 'hey0000', 'elementari', 'peel', 'sheldonstyl', 'adress', 'ghandi', 'banki', 'dio', 'jojo', 'mbean', 'cbscom', 'guild', '105', 'bic', 'reilli', 'rider', 'spage', 'marvelo', 'faceid', 'appleev', 'bharat', 'bok', 'desert', 'chuckempire40kcom', 'comicbook', 'reflect', 'mitroon', 'adhm', 'ratna', 'humorpixcom', 'tb', 'squid', 'sgotbeaten', 'challang', 'delhi', 'lane', 'tughlak', 'nutshel', '354', 'katangu', 'angu', 'kat', 'toll', 'abras', 'mang', 'freezer', '153k', 'bassnecto', 'edn', 'francesca', 'visser', 'frackfeedcom', 'hairspray', 'frack', 'claw', '934', 'tummi', 'unimport', 'tavoid', 'fspoiltmodernwoman', 'litter', 'davi', 'sb', 'madd', 'maxx', 'graphix', 'onen', 'sba4l', 'podcast', 'ispost', 'pleasedo', 'lisay', 'herecom', 'wearetheworst', 'out', 'but813', 'unto', 'supersuit', 'greenor', 'staci', 'ledgeend', 'octopu', 'michigan', 'congrat', 'libertarian', 'henc', 'howev', '99gapcom', 'colon', 'grandin', 'templ', 'employ', 'autism', 'reitman', 'hacki', '94', 'telephon', 'suprisedhumansquealingmp3', 'audio', 'flirtati', 'beep', 'lotto', 'emiss', 'ajerk', 'beneb', 'pyi', 'nay', 'zip', 'oldboy', 'mjolnir', 'saltier', 'bene', 'selenay', 'taw', 'belieb', 'selena', 'lain', 'blain', 'hawkev', 'sneaker', 'sweatpant', 'sari', 'giusepp', 'iso', 'cheek', 'crib', 'dalit', 'uput', 'loos', 'wyour', 'themegeneratornet', 'ali', 'holdingoscar', 'gottyrion', 'halfl', 'fbcom', 'fatheiss', 'howd', 'jussi', 'samsung', 'thermomet', 'funnykim', 'alik', 'lazi', 'hooker', 'despicablememenionsorg', 'extrovert', 'deplor', 'shamelessli', 'miner', 'pixel', 'primari', 'vegeta', 'goku', 'screensav', 'overnight', 'evolv', 'viacomicbookmemeig', 'limp', 'impolit', 'wwwhmsfridaycom', 'c25ule', 'arsen', 'bogg', 'poster', 'nerdycomicmem', 'eme', 'janeway', 'gee', 'introvert', 'firewalk', 'pusysalad', 'baelish', 'petyr', 'mormont', 'jorah', 'delusion', 'pu', 'bari', 'appolog', 'spidermanson', 'liamdunn', 'rg', 'bea', 'panel', 'ethic', 'tritium', 'jewelleri', 'kf', 'pssst', 'substanti', 'minion2minioncom', 'stretch', 'cattimecom', 'at3am', 'forno', 'mehdi', 'sehri', 'bedrock', 'bart', 'beneath', 'anyhow', 'daphn', 'damien', 'australia', 'recent', 'pi', 'ilipcom', 'img', 'expel', 'gie', 'jewpit', 'nstructo', 'activ', 'caucasian', 'mural', 'foretold', 'plebian', 'redditcom', 'snitch', 'quidditch', 'tve', 'lt', 'mckayla', 'cosbi', 'fighter', 'meneith', 'mileston', 'wilcox', 'ducki', 'be', 'reed', 'dontown', '157', 'consequ', 'amberdiscko', 'discko', 'amber', 'acadami', 'darkhelmet', '761', 'punk', 'm58347624', 'danceri', 'smarter', 'memegenratornet', 'jewelri', 'austinpow', 'dom', 'ahhhh', 'sight', 'realest', 'martincom', 'martinsrooom', 'freedom', 'greater', 'spacebal', 'rusti', 'trombon', 'fuuuu', 'gtfo', 'agreement', 'quicksav', 'podrick', 'tripodrick', 'quickmemescom', 'ihos834', 'ishar', 'ansen', 'jonah', 'imit', 'yetb', 'snailcat', 'rahui', 'officialtrol', 'dravid', 'fanfic', 'oshhard', 'huk', 'huko', 'holyy', 'mortal', 'malda', 'pathankot', 'mistaken', 'lotteri', '751', '11930', 'aillion', 'psg', 'mirat', 'fn', 'igiet', 'mission', 'waythat', 'karan', 'johar', 'himymquot', 'lilyaldrin', 'robinscherbatski', 'consult', 'beta', 'v10', 'hounl', 'quich', 'millionar', 'nop', 'carburet', 'symptom', 'unelect', 'memetucnet', 'lorraine40t', 'lorrain', 'you15', '1113', '111912', '1d', 'yukon', 'evanofth', 'rpic', 'backfir', 'puk', 'morri', 'fame', 'sam', 'thorn', 'strippin', '623', '224', '65', '32k', 'weatherman', 'misus', 'pintexxz', 'zuckerphobia', 'dow', 'superlotto', 'artifact', 'maska', 'lebron', 'misunderstood', 'whent', 'arkham', 'dissatisfi', 'wiz', 'diss', 'rudefunnycom', 'dilig', 'memegeneratorco', 'jone', 'press', 'luke', 'tvseri', 'boti', 'hellaninja', '714', 'shadi', 'pitt', 'sarahmcgbeauti', 'smarta', 'khaatestrophi', 'indiatoday', 'baba', 'mugglenet', 'obviou', 'fluent', 'correctli', 'jersey', 'catti', 'comey', 'politicstheonioncom', 'unawar', 'femaleonli', 'transwomen', 'trummemesnet', 'liammc01', 'ver', 'cannon', 'kiddo', 'worldsuccess', 'vlad', 'zie', 'riden', 'zi', 'groupchat', 'masipop', 'mybestiesay', 'extend', '26', 'gne', 'killl', 'minimum', 'rotten', 'magnet', 'monopol', 'gentl', 'opo', 'tator', 'wherev', 'tamilnadu', 'itchi', 'smelli', 'blowup', 'slotherin', 'hgcap', 'tudor', 'reign', 'candler', 'freedomto', 'tribut', 'wifesh', 'carinsllov', 'devot', 'wwwshaaarkcom', 'sonni', 'morningtumblrcom', 'mania', 'furmess', 'llamo', 'e3p', 'ign', 'cia', 'curencecom', 'sotruefactscom', 'sotruefacts1731', 'unclemem', 'reus', 'kiddi', 'lotwwingk', 'toyota', 'gamenform', 'grycom', 'goat', 'dro', 'sho', '420smokersclub', '10com', 'avorit', 'lambert', 'wolff', 'stunt', '721', '06032018', 'hassl', 'hoff', 'hasslehoff', 'liaamburn', 'quinnandnoah', 'miranda', 'darkknight', 'ezer', 'oooh', '184', '385', '121', 'ther98', 'lemm', 'urtel', 'reaper', 'courag', 'rlotrmem', 'richer', 'maximum', 'macchio', 'srv', 'erik', 'lensher', 'film2011', 'guldmentcom', 'documentari', 'badluck', 'rumo', 'bewegen', 'bloggend', 'httpstcofosho9w9ko', 'alam', 'tdont', 'struga', 'arsehol', 'ono', 'bloggendbewegen', 'fotur', 'nerdnat', 'arra', 'knowi', 'kieran', 'improvis', 'incorrectli', 'notif', 'httpdudelolcomp49312', 'solbecam', 'xrate', 'theshin', 'sweep', 'onekoreanboimuhnamegeoff', 'momegeneratornet', 'unseen', 'unknowingli', 'wateri', 'olepli', 'spotifi', 'jen', 'dogandthimblecom', 'sheep', 'jet', 'wacki', 'clever', 'koolaid', 'jokescom', 'nie', 'funnypictur', 'instafun', 'instahappi', 'witti', 'labour', 'photooftheday', 'tweegram', 'meth', 'lsd', 'cinderella', 'njm', 'finnatlipcom', 'dudelolcom', 'tonsofthankscommem', 'warnakulasuriya', 'patabendig', 'ushanta', 'chaminda', 'srilanka', 'spark', 'biggu', 'dicku', 'lotrth', 'plenti', 'onboard', 'trampolin', 'boote', 'punquotescom', 'unfaith', 'surreal', 'persianthotz', 'bahram', 'catlov', 'gamefac', 'purrrtend', 'hght', 'dalway', 'alat', 'juici', 'mueller', 'duncan', 'd850', 'd750', 'oth', '12yo', 'reen', 'barf', 'memecen', 'dwarf', 'elf', 'textur', 'default', 'sua', 'rs500', 'legaci', 'intha', 'forefer', '02494', '20e', '442602', '42602', 'ccc', 'snaughflatul', 'jinksyet', 'codi', 'popcountrycom', 'webat', 'ifyou', 'offso', '50k', 'lm', 'birmingham', 'demis', 'memat', 'saxon', 'anglo', 'cisgend', 'ptotest', 'heterisexu', 'chuckl', 'radic', '1912', 'tavi', 'smiley', 'cornel', 'coon', 'uncomfort', 'canuck', 'freejolesynopalescom', 'crapper', 'anti01', 'mutant101', 'goldilock', 'chronolog', 'zucc', 'lutus', 'butthi', 'squirter', 'dust', 'realeas', 'medit', 'fagborough', 'manoi', 'splorer', 'riddicul', 'ghe', '062', 'industri', 'frontcam', 'arb', 'chan', 'nd', 'modiji', 'jhing', 'chillblinton', 'shirtless', 'clintoncollaps', 'weekendathillari', '15m', 'ican', 'telegram', 'nt', 'wwwrvcicom', 'iop', 'sportsmemesnet', 'sausa', 'geico', 'occur', 'phenomenon', 'bossgirl', 'yoga', 'lvce', 'sr', 'gino', 'almighti', 'explicitli', 'bunker', 'wooki', 'haz', 'fitspo', 'fitchick', 'girlswholift', 'legday', 'gymmotiv', 'gymhumor', 'gymmem', 'merescom', 'cp0356137908', 'tamizhisai', 'prestigi', 'recist', 'cyril', 'giraud', 'firefox', 'encount', '5000', 'dolfa', 'futuro', 'pote', 'futwa', '1208', '138k', 'lolhappenscom', 'ligcom', 'comprimis', 'oc', 'looknutella', 'brock', 'errrbodi', 'tijuana', 'xbox', 'dryer', 'babywanna', 'momwhat', 'babyno', 'mompick', 'unpc', 'doll', 'voodoo', 'alter', 'dcbe', 'perceiv', 'arab', 'overshadow', 'bukowski', 'aon', 'sixyearold', 'factsofcom', 'seller', 'romero', 'cesar', 'smurf', 'crab', 'ferment', 'brothel', 'swipe', 'ofoscar', 'intersect', 'twoway', 'outstand', '922', 'missandei', 'worm', '3621', '031', 'vindaloo', 'rayamajhi', 'dilip', 'epal', 'maraud', '234', 'httpwwwmemescomimg919', 'memor', 'zipper', 'curri', '1041', 'vagu', 'seeker', 'inoi', 'hief', 'ishida', 'atarcom', 'ahi', 'deeper', 'legalizedpot', 'bowlghetto', 'cryptocurr', 'blous', 'veg', 'crispi', 'essentialoilsstylecom', 'thegainz', 'imglolscom', 'tereyeneratornet', '38', 'patio', 'util', 'facebookcomgotmem', 'turnt', 'fri', 'hound', '1946', 'oldascreatur', 'aliahgey', 'trashmamm', 'lasagna', 'transfer', 'terrifi', 'moonlight', 'lade', 'lalala', 'globe', 'slobe', 'licensecom', 'arhtist', 'penitentiari', 'conewild', 'polmcal', 'facebookcom', 'regener', 'rite', 'itsdxvid', 'omelett', 'dbhukkad', 'memecentercomantimanele104', 'proport', 'memeshilari', 'justgirli', 'npc', 'oppressor', 'fbbhukkad', 'insta', 'begun', 'hukkad', 'officeof', 'appu', 'wyoin', 'lalu', 'nitish', 'heez', 'gulp', 'horn', 'besg', 'terrif', 'tge', 'reptilian', 'rambuncti', 'nicknam', 'controversi', 'cornerston', 'palin', 'seizur', 'newyork', 'rust', 'belt', 'obstruct', 'vibrant', '662k', '798k', 'oct', '411', 'airbag', 'isaac', 'orealdonald', 'reach', 'oper', 'dye', 'aout', 'httpgrumpycatmemecom', 'funnycatmemescom', 'landlin', 'occorr', 'imagflipcom', '187', 'wwwlefunnycom', 'youbarri', 'sadli', 'dancinghav', 'alrighta', 'rebuild', 'scottyblackcomb', 'memesfor', 'memer', 'gymmemesandmotiv', 'yea', 'bodybuild', 'crossfit', 'powerlift', 'deadlift', 'cooli', 'lan', 'gotten', 'moccow', 'protector', 'wot', 'vlog', '2m', 'bangkok', 'port', '22k', 'maltes', 'havea', 'bitchhh', 'procrastin', 'biolog', 'persu', 'baker', 'fujitsu', 'bakagaijin', 'ib', 'reupload', 'rur', 'consuela', 'bananahammock', 'winni', 'sca', 'tnpw', 'bydjasso', 'fbcommem', 'shoulder', 'occasion', 'frontal', 'mietz', 'cumsho', 'behavior', 'armastrangelo', 'mastrangelo', 'alana', 'igbts7weirdo', 'attract', 'klein', '008', 'tootsi', 'turdbecaus', 'punkt', 'seashel', '729', '730', 'fr', 'neutralisierung', '108', 'summit', 'cumfrag', 'oneonon', 'vfox', 'una', 'coatt', 'quit3', 'tnbfanboyl', 'timer', 'sparifank', 'malitost', 'hobb', '611', 'haeufi', 'diamin', 'meeelion', 'ocb', 'warhead', 'pod', '865', 'actuallyy', 'korean', 'puusliwodcom', 'zabava', 'stripper', 'hen', 'liven', 'ro', 'inflat', 'nana', '921', 'dehydr', 'imagetweetedbydesusnic', 'gohen', 'despocablemiminionsorg', 'tuck', 'bacaus', 'anex', 'allamerican', 'istay', 'jonni', 'quickl', 'ak47', 'mit', 'feind', 'ein', 'twant', 'crunch', 'auerhalb', 'intersection', 'lang', 'gathshakira', 'rong', 'adaw', 'superlik', 'jizz', 'nicer', 'jonn', 'emporid', 'shestil', 'agenc', 'daddydom', 'kinksham', 'sadomasoch', 'urc', 'hayrrid', 'buribd', 'wakel', 'lifei', 'poul', 'por', 'rhubarb', 'xipolita', 'sleepov', 'beyond', 'revolutionari', 'harlem', 'deceit', 'ade', 'righteou', '81', '824', 'ck', 'lck', '642', 'ggg', '501', 'realist', 'tnb', 'xxobstsaladxx', 'silk', '09', 'van0mtv', 'novolin', 'frighteou', 'speaker', 'payne', 'zyzz', 'kuznez0505', 'yobstsaladxx', 'obtain', 'zadd', 'notmypitu', 'tnbfanboy', 'megadickspermshoot', 'preach', 'tauti', 'submiss', 'fakefeminist', 'fakeleft', 'bondag', '077', 'falcon', 'drivergapbagapcom', 'blatantli', 'evid', 'roger', 'mornin', 'oftwant', 'pmislwebcom', 'nfc', 'tingl', 'imperson', 'thrown', 'ceremoni', 'obam', 'moron', 'an25', 'ihasahotdogcom', 'damniti', 'kraft', 'receipt', 'submit', 'sitter', 'villag', 'memeworldyoutub', 'gayyyyyyyyyi', 'pow', 'stab', 'strangl', 'prochoic', 'twin', 'sel', 'asthma', 'dlc', 'mutha', 'flee', 'wng', 'lolsnapscom', '1911', 'alan', 'dome5', 'belowstop', 'mahom', 'madican', 'portray', 'cid', 'wwwrvcjin', 'pub', 'gta', 'reptil', 'info', 'pair', 'fomgta', 'deliveri', 'exquisit', 'canic', 'abo', 'paynesenterpris', 'doughnut', 'ait', 'tricar', 'calcul', 'dbz', 'mychubbi', 'gayboy', '1joy', 'elba', 'gri', 'reput', '3some', 'lbyl', 'gbbo', 'relief', '6shock', '5despair', 'unattract', 'wank', 'bugger', '4doubt', '3cheek', '2sass', 'idri', 'headshot', 'iaoh', 'aloneand', 'instructor', 'dudewhatwhat', 'antakshari', 'bieber', 'whiten', 'livemamanecom', 'knight', 'funnycatmem', 'mahajan', 'freakingnewscom', 'ifunyco', 'sumitra', 'dailymem', 'medic', 'acttv', 'anniversari', 'zackbornstein', 'bomstein', 'scrap', 'zach', 'malia', 'madlipzcom', 'iwillfindy', 'liamneeson', 'actti', 'pizzahut', 'papajohn', 'pizzaexpress', 'shuttersek', 'pantsleg', 'instamem', 'arn', 'noi', 'inde', 'wwii', 'wikileak', 'fountain', 'freeman', '9gagcomnarki', 'fog', 'hcom', 'remixesdo', 'maggi', 'grace', 'importantli', 'radcliff', 'daniel', 'myrtl', 'headlin', 'whatcha', 'naze', 'http', 'attac', 'fcking', 'snac', '36dec', 'shutup', 'hufflepuff', 'cigarsandseastoriescom', 'semper', 'fidevil82', 'imgfliocom', 'pmslwobcom', 'andh', 'ambros', 'asoiafmem', 'cheatin', 'naaaaawt', 'lastnight', 'asgard', 'seor', 'm7', 'bmw', 'whoop', 'obamacar', 'obamamem', 'btechb', 'flahertyke', 'makeamemesco', 'neckbeard', 'sjw', 'failur', 'jonathan', 'kasdan', 'danklaid', 'ppcom', 'wth', 'updot', 'farblo', 'kyle', 'jcole', 'keeli', 'flaherti', 'avert', 'mematicn', 'wshh', '3d', 'protein', 'besttiiieeeee', 'benadet', 'tvtimecom', 'darwin', 'nationofditkovich', 'facebookcomth', 'fucker', '42', 'wendel', 'airlin', 'qrecom', 'story', 'runtofthewebcom', 'thirdworld', 'httpstcoemxbnhcfrv', 'rohit', 'shetti', 'keeper', 'alannabennett', 'youtubewoodsi', 'tomfooleri', 'zenitu', 'inspiringmarv', 'outlawbbyy', '13th', 'persecut', '245', 'seanseaevan', 'evan', 'taj', 'mahal', 'until', 'abhishek', 'chack', 'chili', 'selfharm', 'pikirk', 'relev', 'intric', 'abouta', 'aasldfliksdfjalsdfki', 'cycl', 'everythingiask', 'err', 'nord', 'modumpcom', 'premium', 'mosquito', 'swat', 'fatal', 'hisenemi', 'adrado', 'appd', 'anna', 'agostini', 'elephants', 'chubbi', 'york', 'histor', 'handshak', 'ju', 'debel', 'teedi', 'ite', '55100720', '31hna10', 'scan', 'rehears', 'crushi', 'zulu', 'ownersexpens', 'unauthor', 'handicap', 'official1dfact', 'slit', '420hitler', 'gillett', 'centrlprk', 'friendsfeedhq', '59m', 'joy', 'meeractspiss', 'tart', 'meercheeredupbut', 'berri', 'ug', 'powerad', 'spit', 'carshar', 'wrydirectiontumblrcom', 'roflraz21com', 'vaticani', 'antisoci', 'smooth', 'undon', 'eli', 'cosplay', 'quirki', '10ut', 'justa', 'ordinari', 'premis', 'faaaaaaaaaaaaaaaaaaa', 'tarneeb', 'montserrat', 'squar', 'cesped', 'neighborhood', 'weir', 'powerbar', 'anton', 'putterstock', 'sreter', 'erstsck', 'imageidss43d', 'lewi', 'shart', 'ohhh', 'ycom', 'whysoseri', 'rk', 'andask', 'festasnet', '72', 'burnt', 'zee', 'fuel', 'eh', 'imgripcom', 'bebabaund', 'ani', '2030', 'pickl', 'speal', 'boycott', 'sendgrid', 'greatsuccess', 'manetenl', 'wahhhhh', 'polar', 'struck', 'friendstvscen', 'ego', 'wlwa', 'mlm', 'aladi', '211', 'gigant', 'barrack', 'veryoddfellow', 'cyber', 'youtubecomthecrazi', 'inecrozygordo', 'doesntbulli', 'memecentercomfactor', 'gotluckythi', 'ao', 'masturb', '01122013', '30112013', 'soo', 'bingcom', 'oconn', '24112013', 'asid', 'griffin', 'theater', 'chloe', 'chaplain', '0813', 'daugter', 'sayzz', 'aj', 'gshe', 'keayallvil', 'petridish', 'headlight', 'banau', 'kya', 'internalis', '5662', '4978', 'khaan', 'backpack', 'goofi', 'wod', 'bran', 'acknowledg', 'chickfila', 'prefect', 'niether', 'jgerbomb', 'joesit', 'ichigo', 'becomea', 'memetenl', 'learningtornet', 'flaw', 'xerox', 'puresweat', 'fairli', 'instagramth', 'ffilthybil', 'icreatorappcom', 'scottpilgrimm', '41', 'eshoo', 'crown', 'armourless', 'lookbobi', 'bpm', '12000', 'temp', 'karanthakkar', 'california', 'rp', 'veget', 'arelazi', 'molli', 'affection', 'carl', 'plain', 'asa', 'cdw', 'dafuq', 'beiber', 'fertil', 'unknownpunst', 'punster', 'unknown', 'ici', 'sixth', 'griev', 'scatteredquotescom', 'cellar', 'alleg', 'loudli', 'vladmir', 'ic', 'structur', 'increas', 'mini', 'mra', 'awhil', 'imgfilipcom', 'tonli', 'bigbangtheoryupd', 'donkeykongo', 'ambiti', 'lifejacket', 'brianlynch', 'lynch', 'ibirthdayco', 'merri', 'himai', 'sohalikut', 'lightyear', 'elmo', 'tolcom', 'avatar', 'aru', 'thebuttoncom', 'youpress', 'ginsburg', 'bader', 'ruth', 'yuuup', 'dekhbal', 'lifequickmemecom', 'dekhbhaifor', 'harrystyl', 'outta', 'redskul', 'togetintoimpact', 'inaon', 'resourc', 'vbuck', 'gayyyi', 'onedirect', 'spacex', 'niallhoran', 'louistomlinson', 'zaynmalik', 'chief', 'wiretapp', 'larrystylinson', 'troyesivan', 'viewiit', 'bitlykaliforniadream', 'teletubbi', 'spam', 'rcom', 'ta', 'tcanhasoheezburg', 'clubbin', 'rolf', 'hick', 'cuckoldri', 'memecntercom', 'mrmemelcom', 'jerrycat', 'snowden', 'thingi', 'bb', 'kushandwizdom', '1997', 'rwholesomemem', 'httpsifttt2pnkwcg', 'turbin', 'har', 'endless', 'concept', 'funnyfrenzycom', 'antartica', 'candoi', 'emir', 're', 'carlsberg', 'bbc', 'neverr', 'ssport', 'besticando', 'hsberg', 'briefli', 'conflict', 'mili', 'ste', 'vey', 'ar', 'harryslut', 'prayer', 'nojoto', 'jockey', 'gt', 'troy', 'seed', 'docicerch', '724', 'fking', 'robbysoav', 'soav', 'robbi', 'dem', 'gurrrl', 'exmen', 'sugandes', 'naw', 'facebookcomdidyouknowblog', 'colorblind', 'redgreen', 'mohanda', 'jawaharl', 'nehru', 'maker', 'mcconaughey', 'imma', 'purpl', 'fuchsia', 'auschwitz', 'beerem', 'beei', 'intensifi', 'weld', 'gamedaygo', 'bethani', 'wwwprotectourelectionsorg', 'judgemnt', 'intth', 'remu', '44000', 'happenacaa', 'cfc', 'diana', 'historyco', 'pharma', 'guiness', 'swag', 'roflrazzcom', 'aarp', 'discount', 'boomer', 'fastbal', 'kinnear', 'lupin', 'drsuess', 'irrelev', 'trw', 'spoiltmodernwaman', 'amith', 'exhaustina', 'nilanjanaghosh', 'mormoncom', 'holland', 'elder', 'anal', 'tu', '1and', 'filter', 'fca', '1947', 'bajabernathi', 'blurri', 'unofficialdnc', 'joeytribbbianii', 'optimis', 'puberti', 'eureka', 'beacon', 'spoken', 'band', 'kanna', 'lotu', 'fivestar', 'dvd', 'soni', 'whine', 'bronycom', 'dee', 'lantern', 'immin', 'purif', 'ar15', 'pica', 'youwa', 'memeanimalscom', 'borrow', 'convent', 'ostwa', 'chowalbo', 'clariti', 'eater', 'nooooo', 'hcrunch', 'fuckn', 'neanea', 'askin', 'whatd', 'collag', 'grayer', 'startrekmo', 'palaeontolog', 'heright', 'electori', 'adolph', 'burnout', 'deathstar', 'groot', 'rupt', 'safeti', 'osteen', 'weedmemescom', 'tufford', 'oma', 'oppon', 'ufford', 'indira', 'compass', 'sonia', 'trolootbal', 'footballtrol', 'javi', 'martinez', 'openi', 'mylittl', 'curti', 'azin', 'quam', 'kateboarom', 'thrasher', 'urin', 'semi', 'syrian', 'daniebe', 'funkera3131', '85600', 'andil', 'kidright', 'scenesofhimym', 'httpstcokwecepesm', 'succeed', 'gifseccom', 'circumcis', '1080', 'deadasssss', 'hierarch', 'eneratenet', 'homosexu', 'hairi', 'kidnap', 'drgraylang', 'rode', 'nomoremem', 'umgflipcom', 'titant', 'broomstick', 'hillaryand', 'sammich', 'mlb', 'ark', 'attir', 'noah', 'angelina', 'belikebillfootbal', 'est1892', 'soest', 'veyit', 'oy', 'blacheco', 'fabot', 'facebookcomthemlbmem', 'mysogyni', 'mai', 'debut', 'macarena', 'daddyissu', 'entub', 'hercul', 'mulligan', 'croc', 'irmgflipcom', 'ihes', 'stee', 'httpswwwbattleforthenetcom', 'lasteri', 'naughti', 'baemillsslay', 'memecreatoreu', 'bia', 'witha', 'ghostbust', 'lennon', '1930', 'nevertrump', 'proudliber', 'islamophobia', 'xenophobia', 'demeuerleidtornet', 'fartwhi', '6pm', 'flexibl', 'walmart', 'gaanothscen', '3x02', 'greuter', 'sassi', 'ueue', 'fact379', 'ingflipcom', 'shook', 'dhaco', 'funky', 'goddamn', 'zuckerbergex', 'cough', 'swix', 'deepthroat', 'throat', 'eulog', 'bronco', 'thanksgivin', 'matern', 'wierd', 'aboutemegeneratornet', 'defens', 'mechan', 'cristina', 'silva', 'prosper', 'tantrum', 'mommi', 'napkin', 'editori', 'evebrow', 'cope', 'parallel', 'shortman', 'pec', 'fuckpenc', 'ilook', 'demodeiowa', 'filmmak', 'whoah', 'rat', 'rank', 'flesh', 'gumamacom', '55k', 'marvin', 'nacho', 'tenacho', 'subscript', 'tsunami', 'coolo', 'finalist', 'macbook', 'putinorgin', 'purrrthday', 'multiplay', 'therapist', 'paus', 'brisisic', '944', '1944', 'climax', 'ohmygod', 'acquir', 'overa', 'mortician', 'shoelac', 'lamin', 'selsdirect', 'visu', 'blo', 'coupon', 'sane', 'antonio', 'egeneratorcom', 'ttrigger', 'handbag', 'bwin', 'bikini', 'humour', 'misanthropi', 'misandri', 'lili', 'dobald', 'mi', 'nolycrapb', 'niemeyerl', 'alunnet', '135', 'on', 'ui', 'oklahom', 'lihon', 'counterfeit', 'goya', '10h', 'uthecheckeredflick', 'rtodayilearn', 'facebookcomwh', 'goodmorn', 'jiin', '222', 'mightv', 'vitalyz', 'marvelousjok', 'luciferforpresid', 'wildcard', 'corgi', 'ng', '3128245', 'p203128245', 'lucif', 'tark', 'firewhiskey', 'oblivion', 'bliss', 'sweater', 'addtextcom', 'gifford', 'authoritahi', 'director', 'starr', 'stacey', 'cp', 'onandonandon', 'nod', 'countercurs', 'memeconerator', 'soulmat', 'arwen', 'incomplet', '248', 'sarkar', '102114', 'kaplowitz', 'banditqueen', 'kiran', 'mario', '2025', 'fludd', 'parenthood', 'tand', 'stuffistumbleduponcom', 'repostitapp', 'gross', 'chrome', 'inthecloset', 'whitehous', 'strategi', 'facebookstop', 'foolish', 'fgl', 'beaten', 'rabid', 'antitrump', 'fdielaught', 'function', '74', 'facil', 'sheepl', 'goldman', 'trillion', 'guantanamo', 'weekli', 'idolatri', 'soro', 'ndaa', 'tutern', '821', '0090', 'exsist', 'fetu', 'outer', 'roar', 'sinegeneratornet', 'jokideocom', 'seaman', '1am', 'for10', '4am', 'dang', 'supremacist', 'lean', 'decapit', 'rrate', 'uvivaanranka', 'catwoman', 'justimgflipcom', 'vishi', 'ladder', 'yeahp', 'ot', 'baemillssey', 'smexi', 'ooo', 'hesh', 'usmal', 'nosi', 'height', 'ebaumsworld', 'demograph', '1422', 'haventreceiv', 'amirightp', 'srihow', 'exit', 'drain', '247', 'heartwarm', 'quietli', 'jingl', 'hackabl', 'pardon', 'mostferv', '599', 'patirot', 'crono', 'ort', 'rount', 'alagam', 'ranger', 'tomahawk', 'tswift', 'shrimp', 'benihana', 'atlanta', '722', 'divis', 'antiobama', 'misgend', 'montoya', 'alfr', 'nkorea', 'overtim', 'fulfil', 'undertim', 'tanto', 'niek', 'prece', 'bklyn', 'memecenterin', 'outlaw', 'fad', 'mecentercom', 'siriu', 'uniti', 'uranium', 'solyndra', 'journalist', 'seiz', 'doj', 'bergdahl', 'bowi', 'bokil', 'anil', 'org', 'bengazhi', 'embarrass', 'pad', 'rainier', 'mount', 'fenway', 'clubhous', 'appreci', 'tower', 'fisag', 'spygat', 'russel', 'westbrook', 'advisor', 'dontlook', 'samurai', 'heavier', 'rivind', 'prode', 'het', 'provid', 'bw', 'rockst', 'slather', 'marbl', 'flavortown', 'adamthecr', 'p78075', 'dishwash', 'malnutrit', 'bunni', 'soichos', 'eskimo', 'cantfind', '630pm', 'ton', 'qmarkipliermem', 'fi', '2top', 'blueberrytea', 'overhear', 'rumor', 'delay', 'tornet', 'thier', 'undef', 'lsoe', 'dolez', 'quicksilv', 'groh', 'rhodey', '10blerd', 'httpabtcm1rmwzpu', 'goddam', 'increm', 'sacveng', 'nternet', 'thei', 'olaf', 'armageddon', 'xxviii', 'jehovah', 'intrins', 'wwwfacebookcomnbamem', 'rabbit', 'marshmallow', 'squash', 'vidlo', 'bicompyourdigitalformulacoach', 'httpsstevenaitchisonmykaja', 'aformula', 'environ', 'coven', 'somenin', 'focuss', 'roi', 'bold', 'joshua', 'jlewdatruth', '1250', 'likeasuit', 'piti', 'barneystinsonoff', 'posnanski', 'tonyposanski', 'swarkl', 'waiti', 'godli', 'ingest', 'fragil', 'chutzpah', 'indianexpress', 'ritual', '817am', '322b', 'roommat', 'upstair', 'commissari', 'astronaut', 'sunk', 'greyjoy', 'wealthiest', 'dumbest', 'purrfect', 'partyy', 'minionsorg', 'bonfir', 'imgiip', 'dialect', 'honor', 'meit', 'pepol', 'memebucketcom', 'girlunderstand', 'anastronaut', 'atornet', 'amon', 'yardstick', 'calla', 'cardiac', 'tpusacom', 'defin', 'milder', 'umemecom', '2016imgflipcom', 'theinnkeeperlibrarian', 'restaur', 'menu', 'proce', 'foundat', '3cheers12year', '738', 'imeur', 'puslwebcom', 'everown', 'poopoo', 'kampf', 'hairclip', 'okoksolistenlisten', 'gayer', 'aaaand', 'bawl', 'strd', 'dustor', '441', 'ouston', 'predid', 'mather', '03', 'parmesan', '2medium', 'popi', 'classism', 'familycom', 'injur', 'infront', 'root', 'emrummelovegood', 'motherhood', 'fetish', 'postfeminist', 'coffin', 'larunezoriginal', 'boom', 'nese', 'laur', 'sinfin', 'dichotomi', 'galway', 'todel', 'leert', 'omz', 'filefli', 'thevideo', 'leia', 'stevegobstumblrcom', '4000', 'there3', 'hitlerdidnothingwrong', 'theni', 'nauseatingnut', 'flush', '300am', 'hsdickig', 'mcweiner', 'supers', 'recaptur', 'cmon', 'gameofmemestumblrcom', 'elsedo', 'sansa', 'wwwfacebookcomdirtyimagin', 'smartest', 'deutschland', 'gq', 'nei', 'stun', 'picardthem', 'dozen', 'ina', 'clau', 'imax', 'naot', 'jaun', 'annih', 'gbm', 'yay', '1233', 'clp', 'courtesi', 'ampa', 'academi', 'impur', 'gp', '551002', '31hnv10', 'prioriti', 'dpooli', 'pan', 'niti', 'diesel', 'fml', 'ugh', 'spurn', 'savior', 'inconvenienc', 'hath', 'moviequotemonday', 'fella', '37th', 'shrunk', 'rout', 'trivialoz', 'benoit', 'submi', 'doo', 'vir33', 'dissapoint', 'brief', 'gotmem', '07162018', 'locht', 'slipperyfellow', 'ecce0088989', 'hagrid', 'badi', 'lehumor', 'nursingc', 'norway', 'beant', 'hungari', 'amazingli', 'lemonad', 'czech', 'layer', 'greec', 'eveni', 'egyptian', 'smjbuzzcom', 'krabbi', 'movement', 'snail', 'ighandosjaimelannist', 'zark', 'decrimin', 'counter', '9gagcomgag806410', 'httpbitly2kuwyaz', 'saint', 'toenail', 'httpbitly2kuwyazwar', 'packag', 'fashionat', 'thavent', 'facebookcomspoiltmodernuoma', '90007', '406f', '38653406f', '20008', 'strip', 'tpot', 'hes2', 'greta', 'christina', 'heathen', 'heheh', 'commerci', 'louder', 'thedirtynerdi', 'sovereign', 'dounutti', 'rn', 'alibi', 'wapvolcom', 'robber', 'rvcu', 'cubescom', 'crust', 'rockhopp', 'pickup', 'offlin', 'luxuri', 'disconnect', 'gerd', 'nothav', 'arcuri', 'gal', 'fuckerberg', 'wwwtopnewsin', 'aaand', 'quickmcom', 'precari', 'edg', 'siriusli', 'rvcjcom', 'mantri', '14hour', 'wouluarvey', 'shelter', 'olsteen', 'noob', 'dushrox16', 'unshak', 'beginn', 'keildyyh', 'keidi', 'rpg', 'canada', 'wasteland', 'barren', 'mastrub', 'wwwsizechartercom', 'mensrafein', 'pot', 'schedul', 'hypocrici', 'koi', 'sima', 'hoti', 'bhalobhno', 'keyboard', 'thumbpresscom', '32make', 'interpurret', 'ensur', 'veganoverlord', 'shaddup', 'inclus', 'millenni', 'indoctrin', 'ps4', 'advis', 'kamavena', 'bowler', 'cuta', 'horrif', 'seeley', 'wwwoldvcut', 'keerata', 'gameoflaughscom', 'musiccom', 'farc', 'dankmemesgang', 'ohnni', 'formula1', 'ph3lwabcom', '1936', 'berlin', 'africanamerican', 'jess', 'sheignor', 'antifreez', 'presind', 'franklin', 'roosevelt', 'commemor', 'afungi', 'draeger', 'itsfunnytom', 'extinguish', 'wedlock', 'cutz', 'daft', 'morodergodfath', 'electron', 'musicfor', 'morod', 'timefram', 'affleck', 'pettypost', 'straightclownin', 'hegotjok', 'jokesforday', 'itsjustjokespeopl', '555', 'funnyisfunni', 'randomhumor', 'markzuckerberg', 'buffet', 'otherwis', 'wemer', 'prohibit', 'perpetu', 'dhinchak', 'puja', 'botdog', 'sal', 'boomimgflipcom', '010717', 'hech1965', 'menstruat', 'aypo3', 'beahero', 'roflrazzicom', 'homecom', 'judgment', 'blond', 'avenegersmem', 'remot', 'quickmemescon', 'therromans', 'sooo', 'tiddi', 'machet', '69th', 'imgipcom', 'hota', 'spacecraft', 'sayin', 'ma', 'outnumb', 'jr', 'einstien', 'becn16', 'jaredleto', 'legionofdoom', 'aqualad', 'aka', 'blerd', 'andijust', 'funnyism', 'intestin', 'chemosi', 'operti', 'neglectin', 'mosh', 'hassandeni', 'kwa', 'kuja', 'dhenk', 'comingcomingen', 'briant', '4014', 'restor', 'asmart', 'xeno', 'purg', 'putout', 'facebookcomshitscrol', 'wwwcallcentermemescom', 'dennotoo', 'fearless', 'refrain', 'wwwessentialoilstylecom', 'ined', 'quicunemecom', '1627', 'so', 'gina', 'wala', 'memecrunchco', 'contribut', 'leas', 'brake', 'vam', 'antman', 'hofstadt', 'wknd', 'liamgallagh', 'gallagh', 'pewd', '9gagcomgag4543448', 'tribbianni', 'chandlerb', 'joeytribbiani', 'reeeeeeeeeeeeeee', 'kidh', 'memeeneratorcom', 'backup', 'unitedstatesofmurica', 'roundhous', 'globetrott', 'regard', 'femishit', 'therapi', 'unlearn', 'harm', 'moder', 'edgar', 'allan', 'poe', 'photogid', 'fleet', 'shitscrol', 'putdown', 'putup', 'cheesel', 'thr', 'habit', 'deliber', 'misspel', 'fro', 'jullian', 'grammar', 'wwwcatikaytumblrcom', 'fend', '1990', 'tanya', 'wash', 'smack', 'eur', 'pinkvilla', 'bazooka', 'lolo', 'rajh', 'underton', 'sheer', 'decenc', 'tc', 'entri', 'siga', 'scrabbl', 'thriller', 'wwwfacebookcomcataddict', 'wwwveryfunnypicseu', 'azharuddin', 'pitch', 'azhar', 'nutrient', 'problemat', 'hershey', 'lobetrott', 'funnypicsonlycom', 'dontlik', 'hawai', 'stockholm', 'dimens', 'lunat', 'manipul', 'juliet', 'romeo', 'feminin', 'womanhood', 'hawkman', 'memegencom', '20kg', 'clarketwin', 'highway', 'dilolcom', 'goosebumpsmovi', 'goosebump', 'slappi', 'tonksxd', 'restroom', 'a1c', 'diabet', 'wayyyi', 'dug', 'boobi', 'rexf', 'peny', 'hsheldon', 'noraci', 'wag', 'darb', 'bbt', 'qurmamacom', 'olik', 'realdailywir', 'clickingforgot', 'grave', 'chong', 'lini', 'l500', 'nfigueiroa', 'tgay', 'sensei', 'fuckup', 'poorli', 'memati', 'loo', 'dumper', 'stack', 'homeown', 'flue', 'household', 'wojak', 'sundaysportco', 'foulbowel', 'hooligan', 'unload', 'theyd', 'isbut', 'ned', 'ruffian', 'mistakenli', 'dode', 'uth', 'meht', 'spaceship', 'fuckoff', 'tenorr', 'billionair', 'preseason', 'sack', 'evacu', 'enterpris', 'vagascom', 'mehe', 'coh', '22h', 'campaign', '9gagcomgaga0p9pvnr', '35k', '56k', 'obsolet', 'allerg', 'jayzco', 'florida', 'mxico', 'puu', 'buf', 'dorito', 'vox', 'bordercrush', 'partiarchi', 'courteshillari', 'businessmindset', 'detamerica', 'motherf', 'partnership', 'strateg', 'bilater', 'anev', 'cornfield', 'boach', 'cais', 'stalk', 'remedi', 'civilian', 'hahahahahahahahaha', 'highest', 'et', 'bodyguard', 'businessmindset101', 'femini', 'cru', 'chamish', 'thamizh', 'smdh', 'interimperfect', 'whisk', 'slowli', 'tampoon', 'ook', 'selfloath', 'fook', 'scarf', 'gangster', 'mametent', 'swung', 'carpetfilt', 'grate', 'shite', 'temperatur', 'aberdeen', 'ocha', 'nedhat', 'doon', 'kiek', 'oik', 'unleash', 'plop', 'rue', 'iftar', 'indiacom', 'daf', 'kup', 'peoplescubecom', 'iman', 'cheezburg', 'hee2eurgercom', 'degre', 'psych', 'yhe', '100n', 'sobasicicanteven', 'mrmun', 'pinterest', 'txhen', 'hypocrit', 'thatdream', 'nationalities74', 'fatti', '01', 'memeganiuratornet', 'llc', 'epe', 'abg', '215', 'contin', 'whereev', 'funsubstancecom', 'dental', 'oranforest', 'conclus', 'custodi', 'adulthood', 'fucc', '25l', 'tomska', 'ridgewel', 'thetomska', 'fortnit', '353', 'snag', 'dankmemesgangcom', 'laker', 'ohhhhh', 'coz', 'biblestudi', 'hasa', 'picturecom', 'laughoutloudclub', 'sled', 'kun', 'blowin', 'hint', 'bitterli', 'mitler', 'nr', 'adelf', 'uncensor', 'gormeni', 'stuffthatlookslikestuff', 'eclip', 'saiv', 'leik', 'poland', '2018putin', 'remak', 'surf', 'instant', 'stuf', 'shiver', 'trimbl', 'heidi', 'memec', 'tercom', 'mamelenler', 'otaku', '2012putin', 'liv', '2000putin', 'getoverher', 'shanna', 'elena', 'utopia', 'sensat', 'delenastelena', 'csn', 'muut', 'facebookcomthemlbnem', 'astro', 'icanhavecheezburgercom', 'yearand', 'sciencebas', 'livestock', 'cart09262', 'facebookcomelma', 'saber', 'elma', 'atheism', 'greed', 'yugioh', 'stairway', 'stasi', 'paralyt', 'nighttim', 'canal', 'happywismesnet', 'alimentari', '2010', 'nemkutyacom', '1480', '1920', '1940', 'uppermost', 'humanist', 'fizzi', 'biblevers', 'rofurazzicom', 'jesuschrist', 'tlook', 'alltheminion', 'spanish', 'cthey', 'irrat', 'godless', 'cloudxstrif', 'prostitut', 'tnfiw', 'instacomedi', 'chun', 'theantibogan', 'secular', 'funnyatheist', 'freethink', 'fuckreligion', 'lollypop', 'benedictscumberbatch', 'seven', 'fbbestofgameofthron', 'therefor', 'abort', 'clinic', 'airport', 'niall', 'nike', 'lgbt', 'mounir', 'karnataka', 'wohatepopcountrycom', 'quickiemeco', 'bryan', '144mb', 'disk', 'aisl', 'react', 'loss', 'upal', 'catchi', 'oddli', 'goty', 'bulong', 'redefin', 'ecom', 'brimston', 'rareat', 'gut', 'blb247', 'belikebrocom', '0158', '291like', '145', 'punsonli', 'underappteci', 'twitterpun', 'itsyaboi95', 'yer', '610', 'gipcom', 'sep', 'decay', 'bryant', 'factual', 'marijuana', 'indec', 'memetentera', 'funnypeseu', 'despacito', 'einstein', 'albert', 'gangnam', 'surpass', 'unappreci', 'disgruntl', 'jobstreet', 'scalia', 'jab', 'thelikeguy', 'bullshitegeneratornet', 'myex', 'andipref', 'hotguy', 'senseless', 'toehdr', 'dofe', 'gurl', 'shotgun', 'pepsi', 'spinach', 'vegit', 'error', 'flower', 'belgium', 'wrestlememia', 'wemd', 'discu', 'couldv', 'magdon', 'uhhhhhhhbten', 'lb', 'twenti', 'httpsitrtt23', 'fifteen', 'happya', 'rotat', 'sofa', 'beingchandlerb', 'friendsrebound', '08052017', '375', 'viarmem', 'septemb', 'helpless', 'simultan', 'starwar', 'symbol', '124k', 'midays', 'fav', 'doraemon', 'shinchan', 'bil', '112', 'bili', 'cand', 'carbon', '427', '153', 'knightchang', 'cocoa', 'puff', '6000', 'perman', 'funnyi', 'fay', 'nyp', 'itz', 'dioxid', 'fluffi', 'purchas', 'jongdeux', 'copaamericafinal2016', 'mention', 'isent', 'hereto', 'nepal', '1956', 'longest', 'ceoquot', 'ceo', 'resurg', 'inernet', 'reil', 'nitrogen', 'httpifttt2ntzk8h', 'rdankmem']\n",
            "['__label__positive', '__label__neutral', '__label__negative']\n"
          ],
          "name": "stdout"
        }
      ]
    },
    {
      "cell_type": "code",
      "metadata": {
        "id": "ZrCj3OMdkoFr",
        "colab_type": "code",
        "colab": {}
      },
      "source": [
        "def print_results(N, p, r):\n",
        "    print(\"N\\t\" + str(N))\n",
        "    print(\"P@{}\\t{:.3f}\".format(1, p))\n",
        "    print(\"R@{}\\t{:.3f}\".format(1, r))"
      ],
      "execution_count": null,
      "outputs": []
    },
    {
      "cell_type": "code",
      "metadata": {
        "id": "e_qExtA0kpmy",
        "colab_type": "code",
        "colab": {
          "base_uri": "https://localhost:8080/",
          "height": 67
        },
        "outputId": "cfc96946-30f3-488f-a8f8-7eee8e5cb4ca"
      },
      "source": [
        "print_results(*model.test('/content/drive/My Drive/test.txt'))"
      ],
      "execution_count": null,
      "outputs": [
        {
          "output_type": "stream",
          "text": [
            "N\t3744\n",
            "P@1\t0.794\n",
            "R@1\t0.794\n"
          ],
          "name": "stdout"
        }
      ]
    },
    {
      "cell_type": "code",
      "metadata": {
        "id": "tiRL5A5tkrB4",
        "colab_type": "code",
        "colab": {
          "base_uri": "https://localhost:8080/",
          "height": 33
        },
        "outputId": "d50e778a-0de8-428c-a5c0-fed0bcdfcdbd"
      },
      "source": [
        "model.predict(\"hey girl keep law bodi keep hand\")"
      ],
      "execution_count": null,
      "outputs": [
        {
          "output_type": "execute_result",
          "data": {
            "text/plain": [
              "(('__label__negative',), array([0.9984532]))"
            ]
          },
          "metadata": {
            "tags": []
          },
          "execution_count": 42
        }
      ]
    }
  ]
}